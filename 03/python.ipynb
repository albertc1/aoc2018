{
 "cells": [
  {
   "cell_type": "code",
   "execution_count": 7,
   "metadata": {},
   "outputs": [],
   "source": [
    "from collections import namedtuple\n",
    "Rect = namedtuple('Rect', ['id', 'x', 'y', 'w', 'h'])"
   ]
  },
  {
   "cell_type": "code",
   "execution_count": 8,
   "metadata": {},
   "outputs": [],
   "source": [
    "import re\n",
    "\n",
    "rects = []\n",
    "with open('input.txt') as infile:\n",
    "    for l in infile:\n",
    "        l = re.sub('[^0-9]', ' ', l)\n",
    "        _id, x, y, w, h = l.split()\n",
    "        rects.append(Rect(_id, int(x), int(y), int(w), int(h)))"
   ]
  },
  {
   "cell_type": "code",
   "execution_count": 11,
   "metadata": {},
   "outputs": [],
   "source": [
    "max_x, max_y = 0, 0\n",
    "for r in rects:\n",
    "    max_y = max(max_y, r.y + r.h)\n",
    "    max_x = max(max_x, r.x + r.w)"
   ]
  },
  {
   "cell_type": "code",
   "execution_count": 12,
   "metadata": {},
   "outputs": [
    {
     "data": {
      "text/plain": [
       "(999, 998)"
      ]
     },
     "execution_count": 12,
     "metadata": {},
     "output_type": "execute_result"
    }
   ],
   "source": [
    "max_x, max_y"
   ]
  },
  {
   "cell_type": "code",
   "execution_count": 15,
   "metadata": {},
   "outputs": [],
   "source": [
    "grid  = [[0] * 1000 for _ in range(1000)]\n",
    "for r in rects:\n",
    "    for x in range(r.x, r.x + r.w):\n",
    "        for y in range(r.y, r.y + r.h):\n",
    "            grid[x][y] += 1"
   ]
  },
  {
   "cell_type": "code",
   "execution_count": 16,
   "metadata": {},
   "outputs": [
    {
     "data": {
      "text/plain": [
       "104126"
      ]
     },
     "execution_count": 16,
     "metadata": {},
     "output_type": "execute_result"
    }
   ],
   "source": [
    "len([None for row in grid for count in row if count > 1])"
   ]
  },
  {
   "cell_type": "code",
   "execution_count": 17,
   "metadata": {},
   "outputs": [
    {
     "data": {
      "text/plain": [
       "'695'"
      ]
     },
     "execution_count": 17,
     "metadata": {},
     "output_type": "execute_result"
    }
   ],
   "source": [
    "for r in rects:\n",
    "    overlap = False\n",
    "    for x in range(r.x, r.x + r.w):\n",
    "        for y in range(r.y, r.y + r.h):\n",
    "            if grid[x][y] > 1:\n",
    "                overlap = True\n",
    "                break\n",
    "        if overlap:\n",
    "            break\n",
    "    if not overlap:\n",
    "        break\n",
    "r.id"
   ]
  },
  {
   "cell_type": "markdown",
   "metadata": {},
   "source": [
    "## O(total area claimed) solution"
   ]
  },
  {
   "cell_type": "code",
   "execution_count": 10,
   "metadata": {},
   "outputs": [
    {
     "data": {
      "text/plain": [
       "({'695'}, 104126)"
      ]
     },
     "execution_count": 10,
     "metadata": {},
     "output_type": "execute_result"
    }
   ],
   "source": [
    "from collections import defaultdict\n",
    "grid = defaultdict(set)\n",
    "for r in rects:\n",
    "    for x in range(r.x, r.x + r.w):\n",
    "        for y in range(r.y, r.y + r.h):\n",
    "            grid[(x,y)].add(r.id)\n",
    "isolated = {r.id for r in rects}\n",
    "conflicts = 0\n",
    "for claims in grid.values():\n",
    "    if len(claims) > 1:\n",
    "        isolated -= claims\n",
    "        conflicts += 1\n",
    "\n",
    "isolated, conflicts"
   ]
  },
  {
   "cell_type": "code",
   "execution_count": null,
   "metadata": {},
   "outputs": [],
   "source": []
  }
 ],
 "metadata": {
  "kernelspec": {
   "display_name": "Python 3",
   "language": "python",
   "name": "python3"
  },
  "language_info": {
   "codemirror_mode": {
    "name": "ipython",
    "version": 3
   },
   "file_extension": ".py",
   "mimetype": "text/x-python",
   "name": "python",
   "nbconvert_exporter": "python",
   "pygments_lexer": "ipython3",
   "version": "3.5.0"
  }
 },
 "nbformat": 4,
 "nbformat_minor": 2
}
