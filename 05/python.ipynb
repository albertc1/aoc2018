{
 "cells": [
  {
   "cell_type": "code",
   "execution_count": 9,
   "metadata": {},
   "outputs": [],
   "source": [
    "with open('input.txt') as infile:\n",
    "    chars = infile.read().strip()"
   ]
  },
  {
   "cell_type": "code",
   "execution_count": 29,
   "metadata": {},
   "outputs": [],
   "source": [
    "parse = {}\n",
    "for i, c in enumerate('abcdefghijklmnopqrstuvwxyz', 1):\n",
    "    parse[c] = i\n",
    "    parse[c.upper()] = -i\n",
    "\n",
    "def annihilate(chars, ignore=None):\n",
    "    ignore = ignore or set()\n",
    "    stack = []\n",
    "    for c in chars:\n",
    "        if c in ignore:\n",
    "            continue\n",
    "        parsed = parse[c]\n",
    "        if stack and (parsed + stack[-1]) == 0:\n",
    "            stack.pop()\n",
    "        else:\n",
    "            stack.append(parsed)\n",
    "    return len(stack)\n",
    "    "
   ]
  },
  {
   "cell_type": "code",
   "execution_count": 30,
   "metadata": {},
   "outputs": [
    {
     "data": {
      "text/plain": [
       "10450"
      ]
     },
     "execution_count": 30,
     "metadata": {},
     "output_type": "execute_result"
    }
   ],
   "source": [
    "annihilate(chars)"
   ]
  },
  {
   "cell_type": "code",
   "execution_count": 31,
   "metadata": {},
   "outputs": [
    {
     "data": {
      "text/plain": [
       "4624"
      ]
     },
     "execution_count": 31,
     "metadata": {},
     "output_type": "execute_result"
    }
   ],
   "source": [
    "\n",
    "min([\n",
    "    annihilate(chars, {c, c.upper()})    \n",
    "    for c in 'abcdefghijklmnopqrstuvwxyz'\n",
    "])\n",
    "    "
   ]
  },
  {
   "cell_type": "code",
   "execution_count": null,
   "metadata": {},
   "outputs": [],
   "source": []
  }
 ],
 "metadata": {
  "kernelspec": {
   "display_name": "Python 3",
   "language": "python",
   "name": "python3"
  },
  "language_info": {
   "codemirror_mode": {
    "name": "ipython",
    "version": 3
   },
   "file_extension": ".py",
   "mimetype": "text/x-python",
   "name": "python",
   "nbconvert_exporter": "python",
   "pygments_lexer": "ipython3",
   "version": "3.5.0"
  }
 },
 "nbformat": 4,
 "nbformat_minor": 2
}
