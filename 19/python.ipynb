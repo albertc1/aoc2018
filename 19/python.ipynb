{
 "cells": [
  {
   "cell_type": "code",
   "execution_count": 27,
   "metadata": {
    "ExecuteTime": {
     "end_time": "2018-12-19T06:28:40.199275Z",
     "start_time": "2018-12-19T06:28:40.167910Z"
    }
   },
   "outputs": [],
   "source": [
    "from collections import namedtuple, defaultdict\n",
    "\n",
    "OPS = {\n",
    "    \"addr\": lambda a, b, reg: reg[a] + reg[b],\n",
    "    \"addi\": lambda a, b, reg: reg[a] + b,\n",
    "    \"mulr\": lambda a, b, reg: reg[a] * reg[b],\n",
    "    \"muli\": lambda a, b, reg: reg[a] * b,\n",
    "    \"banr\": lambda a, b, reg: reg[a] & reg[b],\n",
    "    \"bani\": lambda a, b, reg: reg[a] & b,\n",
    "    \"borr\": lambda a, b, reg: reg[a] | reg[b],\n",
    "    \"bori\": lambda a, b, reg: reg[a] | b,\n",
    "    \"setr\": lambda a, b, reg: reg[a],\n",
    "    \"seti\": lambda a, b, reg: a,\n",
    "    \"gtir\": lambda a, b, reg: 1 if a > reg[b] else 0,\n",
    "    \"gtri\": lambda a, b, reg: 1 if reg[a] > b else 0,\n",
    "    \"gtrr\": lambda a, b, reg: 1 if reg[a] > reg[b] else 0,\n",
    "    \"eqir\": lambda a, b, reg: 1 if a == reg[b] else 0,\n",
    "    \"eqri\": lambda a, b, reg: 1 if reg[a] == b else 0,\n",
    "    \"eqrr\": lambda a, b, reg: 1 if reg[a] == reg[b] else 0,\n",
    "}\n",
    "\n",
    "class Board:\n",
    "    \n",
    "    ip = None    \n",
    "    prog = None\n",
    "    reg = None\n",
    "    \n",
    "    def __init__(self, filename, init=None):\n",
    "        self.prog = prog = []\n",
    "        self.reg = init and init.copy() or [0, 0, 0, 0, 0, 0]\n",
    "        with open(filename) as infile:\n",
    "            self.ip = int(infile.readline().strip().split()[-1])\n",
    "            for l in infile:\n",
    "                instr, a, b, c = l.strip().split()\n",
    "                prog.append((OPS[instr], int(a), int(b), int(c)))\n",
    "    \n",
    "    def run(self, t=1, debug=False):\n",
    "        reg = self.reg\n",
    "        prog = self.prog\n",
    "        for _ in range(t):\n",
    "            if not (0 <= reg[1] < len(prog)):\n",
    "                print('DONE')\n",
    "                break\n",
    "            op, a, b, c = prog[reg[1]]\n",
    "            reg[c] = op(a, b, reg)\n",
    "            reg[1] += 1\n",
    "            if debug:\n",
    "                print(reg)\n",
    "        return reg\n",
    "\n",
    "        "
   ]
  },
  {
   "cell_type": "code",
   "execution_count": 28,
   "metadata": {
    "ExecuteTime": {
     "end_time": "2018-12-19T06:28:51.158494Z",
     "start_time": "2018-12-19T06:28:44.195543Z"
    }
   },
   "outputs": [
    {
     "name": "stdout",
     "output_type": "stream",
     "text": [
      "DONE\n"
     ]
    },
    {
     "data": {
      "text/plain": [
       "[1440, 257, 1, 959, 958, 959]"
      ]
     },
     "execution_count": 28,
     "metadata": {},
     "output_type": "execute_result"
    }
   ],
   "source": [
    "b = Board('input.txt')\n",
    "b.run(1000000000)\n"
   ]
  },
  {
   "cell_type": "code",
   "execution_count": 15,
   "metadata": {
    "ExecuteTime": {
     "end_time": "2018-12-19T05:37:05.848811Z",
     "start_time": "2018-12-19T05:37:05.843221Z"
    }
   },
   "outputs": [
    {
     "data": {
      "text/plain": [
       "[2, 9, 0, 12, 10551358, 2]"
      ]
     },
     "execution_count": 15,
     "metadata": {},
     "output_type": "execute_result"
    }
   ],
   "source": [
    "b = Board('input.txt', [15827040, 12, 0, 10551359, 10551358, 10551358])\n",
    "b.run(100)"
   ]
  },
  {
   "cell_type": "code",
   "execution_count": 17,
   "metadata": {
    "ExecuteTime": {
     "end_time": "2018-12-19T05:37:40.737103Z",
     "start_time": "2018-12-19T05:37:40.713351Z"
    }
   },
   "outputs": [
    {
     "name": "stdout",
     "output_type": "stream",
     "text": [
      "gtrr 3 4 2 [1, 10, 0, 137, 10551358, 2] 10\n",
      "addr 1 2 1 [1, 11, 0, 137, 10551358, 2] 11\n",
      "seti 2 6 1 [1, 3, 0, 137, 10551358, 2] 3\n",
      "mulr 5 3 2 [1, 4, 274, 137, 10551358, 2] 4\n",
      "eqrr 2 4 2 [1, 5, 0, 137, 10551358, 2] 5\n",
      "addr 2 1 1 [1, 6, 0, 137, 10551358, 2] 6\n",
      "addi 1 1 1 [1, 8, 0, 137, 10551358, 2] 8\n",
      "addi 3 1 3 [1, 9, 0, 138, 10551358, 2] 9\n",
      "gtrr 3 4 2 [1, 10, 0, 138, 10551358, 2] 10\n",
      "addr 1 2 1 [1, 11, 0, 138, 10551358, 2] 11\n",
      "seti 2 6 1 [1, 3, 0, 138, 10551358, 2] 3\n",
      "mulr 5 3 2 [1, 4, 276, 138, 10551358, 2] 4\n",
      "eqrr 2 4 2 [1, 5, 0, 138, 10551358, 2] 5\n",
      "addr 2 1 1 [1, 6, 0, 138, 10551358, 2] 6\n",
      "addi 1 1 1 [1, 8, 0, 138, 10551358, 2] 8\n",
      "addi 3 1 3 [1, 9, 0, 139, 10551358, 2] 9\n",
      "gtrr 3 4 2 [1, 10, 0, 139, 10551358, 2] 10\n",
      "addr 1 2 1 [1, 11, 0, 139, 10551358, 2] 11\n",
      "seti 2 6 1 [1, 3, 0, 139, 10551358, 2] 3\n",
      "mulr 5 3 2 [1, 4, 278, 139, 10551358, 2] 4\n",
      "eqrr 2 4 2 [1, 5, 0, 139, 10551358, 2] 5\n",
      "addr 2 1 1 [1, 6, 0, 139, 10551358, 2] 6\n",
      "addi 1 1 1 [1, 8, 0, 139, 10551358, 2] 8\n",
      "addi 3 1 3 [1, 9, 0, 140, 10551358, 2] 9\n",
      "gtrr 3 4 2 [1, 10, 0, 140, 10551358, 2] 10\n",
      "addr 1 2 1 [1, 11, 0, 140, 10551358, 2] 11\n",
      "seti 2 6 1 [1, 3, 0, 140, 10551358, 2] 3\n",
      "mulr 5 3 2 [1, 4, 280, 140, 10551358, 2] 4\n",
      "eqrr 2 4 2 [1, 5, 0, 140, 10551358, 2] 5\n",
      "addr 2 1 1 [1, 6, 0, 140, 10551358, 2] 6\n",
      "addi 1 1 1 [1, 8, 0, 140, 10551358, 2] 8\n",
      "addi 3 1 3 [1, 9, 0, 141, 10551358, 2] 9\n",
      "gtrr 3 4 2 [1, 10, 0, 141, 10551358, 2] 10\n",
      "addr 1 2 1 [1, 11, 0, 141, 10551358, 2] 11\n",
      "seti 2 6 1 [1, 3, 0, 141, 10551358, 2] 3\n",
      "mulr 5 3 2 [1, 4, 282, 141, 10551358, 2] 4\n",
      "eqrr 2 4 2 [1, 5, 0, 141, 10551358, 2] 5\n",
      "addr 2 1 1 [1, 6, 0, 141, 10551358, 2] 6\n",
      "addi 1 1 1 [1, 8, 0, 141, 10551358, 2] 8\n",
      "addi 3 1 3 [1, 9, 0, 142, 10551358, 2] 9\n",
      "gtrr 3 4 2 [1, 10, 0, 142, 10551358, 2] 10\n",
      "addr 1 2 1 [1, 11, 0, 142, 10551358, 2] 11\n",
      "seti 2 6 1 [1, 3, 0, 142, 10551358, 2] 3\n",
      "mulr 5 3 2 [1, 4, 284, 142, 10551358, 2] 4\n",
      "eqrr 2 4 2 [1, 5, 0, 142, 10551358, 2] 5\n",
      "addr 2 1 1 [1, 6, 0, 142, 10551358, 2] 6\n",
      "addi 1 1 1 [1, 8, 0, 142, 10551358, 2] 8\n",
      "addi 3 1 3 [1, 9, 0, 143, 10551358, 2] 9\n",
      "gtrr 3 4 2 [1, 10, 0, 143, 10551358, 2] 10\n",
      "addr 1 2 1 [1, 11, 0, 143, 10551358, 2] 11\n",
      "seti 2 6 1 [1, 3, 0, 143, 10551358, 2] 3\n",
      "mulr 5 3 2 [1, 4, 286, 143, 10551358, 2] 4\n",
      "eqrr 2 4 2 [1, 5, 0, 143, 10551358, 2] 5\n",
      "addr 2 1 1 [1, 6, 0, 143, 10551358, 2] 6\n",
      "addi 1 1 1 [1, 8, 0, 143, 10551358, 2] 8\n",
      "addi 3 1 3 [1, 9, 0, 144, 10551358, 2] 9\n",
      "gtrr 3 4 2 [1, 10, 0, 144, 10551358, 2] 10\n",
      "addr 1 2 1 [1, 11, 0, 144, 10551358, 2] 11\n",
      "seti 2 6 1 [1, 3, 0, 144, 10551358, 2] 3\n",
      "mulr 5 3 2 [1, 4, 288, 144, 10551358, 2] 4\n",
      "eqrr 2 4 2 [1, 5, 0, 144, 10551358, 2] 5\n",
      "addr 2 1 1 [1, 6, 0, 144, 10551358, 2] 6\n",
      "addi 1 1 1 [1, 8, 0, 144, 10551358, 2] 8\n",
      "addi 3 1 3 [1, 9, 0, 145, 10551358, 2] 9\n",
      "gtrr 3 4 2 [1, 10, 0, 145, 10551358, 2] 10\n",
      "addr 1 2 1 [1, 11, 0, 145, 10551358, 2] 11\n",
      "seti 2 6 1 [1, 3, 0, 145, 10551358, 2] 3\n",
      "mulr 5 3 2 [1, 4, 290, 145, 10551358, 2] 4\n",
      "eqrr 2 4 2 [1, 5, 0, 145, 10551358, 2] 5\n",
      "addr 2 1 1 [1, 6, 0, 145, 10551358, 2] 6\n",
      "addi 1 1 1 [1, 8, 0, 145, 10551358, 2] 8\n",
      "addi 3 1 3 [1, 9, 0, 146, 10551358, 2] 9\n",
      "gtrr 3 4 2 [1, 10, 0, 146, 10551358, 2] 10\n",
      "addr 1 2 1 [1, 11, 0, 146, 10551358, 2] 11\n",
      "seti 2 6 1 [1, 3, 0, 146, 10551358, 2] 3\n",
      "mulr 5 3 2 [1, 4, 292, 146, 10551358, 2] 4\n",
      "eqrr 2 4 2 [1, 5, 0, 146, 10551358, 2] 5\n",
      "addr 2 1 1 [1, 6, 0, 146, 10551358, 2] 6\n",
      "addi 1 1 1 [1, 8, 0, 146, 10551358, 2] 8\n",
      "addi 3 1 3 [1, 9, 0, 147, 10551358, 2] 9\n",
      "gtrr 3 4 2 [1, 10, 0, 147, 10551358, 2] 10\n",
      "addr 1 2 1 [1, 11, 0, 147, 10551358, 2] 11\n",
      "seti 2 6 1 [1, 3, 0, 147, 10551358, 2] 3\n",
      "mulr 5 3 2 [1, 4, 294, 147, 10551358, 2] 4\n",
      "eqrr 2 4 2 [1, 5, 0, 147, 10551358, 2] 5\n",
      "addr 2 1 1 [1, 6, 0, 147, 10551358, 2] 6\n",
      "addi 1 1 1 [1, 8, 0, 147, 10551358, 2] 8\n",
      "addi 3 1 3 [1, 9, 0, 148, 10551358, 2] 9\n",
      "gtrr 3 4 2 [1, 10, 0, 148, 10551358, 2] 10\n",
      "addr 1 2 1 [1, 11, 0, 148, 10551358, 2] 11\n",
      "seti 2 6 1 [1, 3, 0, 148, 10551358, 2] 3\n",
      "mulr 5 3 2 [1, 4, 296, 148, 10551358, 2] 4\n",
      "eqrr 2 4 2 [1, 5, 0, 148, 10551358, 2] 5\n",
      "addr 2 1 1 [1, 6, 0, 148, 10551358, 2] 6\n",
      "addi 1 1 1 [1, 8, 0, 148, 10551358, 2] 8\n",
      "addi 3 1 3 [1, 9, 0, 149, 10551358, 2] 9\n",
      "gtrr 3 4 2 [1, 10, 0, 149, 10551358, 2] 10\n",
      "addr 1 2 1 [1, 11, 0, 149, 10551358, 2] 11\n",
      "seti 2 6 1 [1, 3, 0, 149, 10551358, 2] 3\n",
      "mulr 5 3 2 [1, 4, 298, 149, 10551358, 2] 4\n"
     ]
    },
    {
     "data": {
      "text/plain": [
       "[1, 4, 298, 149, 10551358, 2]"
      ]
     },
     "execution_count": 17,
     "metadata": {},
     "output_type": "execute_result"
    }
   ],
   "source": [
    "b.run(100, True)"
   ]
  },
  {
   "cell_type": "code",
   "execution_count": 23,
   "metadata": {
    "ExecuteTime": {
     "end_time": "2018-12-19T06:23:01.050071Z",
     "start_time": "2018-12-19T06:23:01.037764Z"
    }
   },
   "outputs": [
    {
     "data": {
      "text/plain": [
       "[15827040, 257, 1, 10551359, 10551358, 10551359]"
      ]
     },
     "execution_count": 23,
     "metadata": {},
     "output_type": "execute_result"
    }
   ],
   "source": [
    "b = Board('input.txt')\n",
    "b.reg = [15827040, 12, 0, 10551359, 10551358, 10551358]\n",
    "b.run(1000)"
   ]
  },
  {
   "cell_type": "code",
   "execution_count": null,
   "metadata": {},
   "outputs": [],
   "source": [
    "# 00 addi 1 16 1\n",
    "# 01 seti 1 _ 5  # i = 1\n",
    "# 02 seti 1 _ 3  # j = 1\n",
    "# 03 mulr 5 3 2  # \n",
    "# 04 eqrr 2 4 2  # if j * i = x\n",
    "# 05 addr 2 1 1  # \n",
    "# 06 addi 1 1 1  #\n",
    "# 07 addr 5 0 0  #    sum += i\n",
    "# 08 addi 3 1 3  # j++\n",
    "# 09 gtrr 3 4 2  # if j > x\n",
    "# 10 addr 1 2 1  #    GOTO 12\n",
    "# 11 seti 2 _ 1  # else GOTO 03\n",
    "# 12 addi 5 1 5  # i++\n",
    "# 13 gtrr 5 4 2  # if i > x\n",
    "# 14 addr 2 1 1  #    GOTO 16\n",
    "# 15 seti 1 _ 1  # else GOTO 02\n",
    "# 16 mulr 1 1 1\n",
    "# 17 addi 4 2 4\n",
    "# 18 mulr 4 4 4\n",
    "# 19 mulr 1 4 4\n",
    "# 20 muli 4 11 4\n",
    "# 21 addi 2 5 2\n",
    "# 22 mulr 2 1 2\n",
    "# 23 addi 2 12 2\n",
    "# 24 addr 4 2 4\n",
    "# 25 addr 1 0 1\n",
    "# 26 seti 0 _ 1\n",
    "# 27 setr 1 _ 2\n",
    "# 28 mulr 2 1 2\n",
    "# 29 addr 1 2 2\n",
    "# 30 mulr 1 2 2\n",
    "# 31 muli 2 14 2\n",
    "# 32 mulr 2 1 2\n",
    "# 33 addr 4 2 4\n",
    "# 34 seti 0 _ 0\n",
    "# 35 seti 0 _ 1"
   ]
  }
 ],
 "metadata": {
  "kernelspec": {
   "display_name": "Python 3",
   "language": "python",
   "name": "python3"
  },
  "language_info": {
   "codemirror_mode": {
    "name": "ipython",
    "version": 3
   },
   "file_extension": ".py",
   "mimetype": "text/x-python",
   "name": "python",
   "nbconvert_exporter": "python",
   "pygments_lexer": "ipython3",
   "version": "3.5.0"
  }
 },
 "nbformat": 4,
 "nbformat_minor": 2
}
