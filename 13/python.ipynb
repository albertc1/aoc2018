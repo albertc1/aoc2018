{
 "cells": [
  {
   "cell_type": "code",
   "execution_count": 48,
   "metadata": {
    "ExecuteTime": {
     "end_time": "2018-12-13T10:41:52.080235Z",
     "start_time": "2018-12-13T10:41:52.053024Z"
    }
   },
   "outputs": [],
   "source": [
    "from collections import defaultdict\n",
    "\n",
    "N, E, S, W = 0, 1, 2, 3\n",
    "\n",
    "\n",
    "class Cart:\n",
    "    node = None\n",
    "    heading = None\n",
    "    choices = 0\n",
    "    active = True\n",
    "    \n",
    "    def __init__(self, node, heading):\n",
    "        self.node = node\n",
    "        self.heading = heading\n",
    "        node.cart = self\n",
    "    \n",
    "    def move(self):\n",
    "        self.heading = self.node.next_heading(self.heading, self.choices)\n",
    "        next_node = self.node.links[self.heading]\n",
    "        self.node.cart = None\n",
    "        if next_node.cart:\n",
    "            crashee = next_node.cart\n",
    "            self.active = False\n",
    "            crashee.active = False\n",
    "            next_node.cart = None\n",
    "            return crashee\n",
    "        if self.node.choice:\n",
    "            self.choices = (self.choices + 1) % 3\n",
    "        next_node.cart = self\n",
    "        self.node = next_node\n",
    "\n",
    "        \n",
    "class Node:\n",
    "    cart = None\n",
    "    coords = None\n",
    "    links = None\n",
    "    choice = False\n",
    "    \n",
    "    def __init__(self, r, c):\n",
    "        self.coords = (c, r)\n",
    "        self.links = [None] * 4\n",
    "\n",
    "    def connect(self, left_node, top_node):\n",
    "        raise NotImplememtedError\n",
    "    \n",
    "    def next_heading(self, heading, turns):\n",
    "        raise NotImplementedError\n",
    "\n",
    "        \n",
    "class StraightNode(Node):\n",
    "    def next_heading(self, heading, turns):\n",
    "        return heading\n",
    "\n",
    "    \n",
    "class VertNode(StraightNode):\n",
    "    def connect(self, left_node, top_node):\n",
    "        self.links[N] = top_node\n",
    "        top_node.links[S] = self\n",
    "\n",
    "        \n",
    "class HorNode(StraightNode):\n",
    "    def connect(self, left_node, top_node):\n",
    "        self.links[W] = left_node\n",
    "        left_node.links[E] = self\n",
    "\n",
    "        \n",
    "class TurnNode(Node):\n",
    "    # array that maps input heading (N=0, E=1, S=2, W=3) to output heading\n",
    "    turns = [None, None, None, None]\n",
    "    \n",
    "    def next_heading(self, heading, turns):\n",
    "        return self.turns[heading]\n",
    "\n",
    "    def connect(self, left_node, top_node):\n",
    "        if top_node:\n",
    "            self.links[N] = top_node\n",
    "            top_node.links[S] = self\n",
    "        if left_node:\n",
    "            self.links[W] = left_node\n",
    "            left_node.links[E] = self\n",
    "\n",
    "            \n",
    "class SlashNode(TurnNode):\n",
    "    turns = [E, N, W, S]\n",
    "\n",
    "    \n",
    "class BackslashNode(TurnNode):\n",
    "    turns = [W, S, E, N]\n",
    "\n",
    "    \n",
    "class InterNode(Node):\n",
    "    choice = True\n",
    "    turns = [W, N, E, S, W, N]\n",
    "    \n",
    "    def next_heading(self, heading, turns):\n",
    "        return self.turns[heading + turns]\n",
    "\n",
    "    def connect(self, left_node, top_node):\n",
    "        self.links[N] = top_node\n",
    "        top_node.links[S] = self\n",
    "        self.links[W] = left_node\n",
    "        left_node.links[E] = self\n",
    "        \n",
    "    \n",
    "class Board:\n",
    "    time = None\n",
    "    carts = None\n",
    "    \n",
    "    def __init__(self, filename):\n",
    "        parse_node = {\n",
    "            '<': HorNode,\n",
    "            '>': HorNode,\n",
    "            '^': VertNode,\n",
    "            'v': VertNode,\n",
    "            '|': VertNode,\n",
    "            '-': HorNode,\n",
    "            '/': SlashNode,\n",
    "            '\\\\': BackslashNode,\n",
    "            '+': InterNode,\n",
    "            ' ': None,\n",
    "            '\\n': None,\n",
    "        }\n",
    "        parse_heading = {\n",
    "            '<': W,\n",
    "            '>': E,\n",
    "            '^': N,\n",
    "            'v': S,\n",
    "        }\n",
    "        carts = []\n",
    "        with open(filename) as infile:\n",
    "            row = defaultdict(lambda : None)\n",
    "            for r, l in enumerate(infile):\n",
    "                prev_row = row\n",
    "                row = []\n",
    "                for c, rune in enumerate(l):\n",
    "                    node = None\n",
    "                    node_class = parse_node[rune]\n",
    "                    if node_class:\n",
    "                        node = node_class(r, c)\n",
    "                        try:\n",
    "                            node.connect(row and row[-1], prev_row[c])\n",
    "                        except:\n",
    "                            print('{} {} {}'.format(rune, r, c))\n",
    "                            raise\n",
    "                        if rune in parse_heading:\n",
    "                            carts.append(Cart(node, parse_heading[rune]))\n",
    "                    row.append(node)\n",
    "        self.carts = carts\n",
    "        self.time = 0\n",
    "\n",
    "    def tick(self):\n",
    "        self.time += 1\n",
    "        crash = None\n",
    "        for cart in sorted(self.carts, key=lambda c: c.node.coords):\n",
    "            if cart.active:\n",
    "                crashee = cart.move()\n",
    "                if crashee:\n",
    "                    self.carts.remove(cart)\n",
    "                    self.carts.remove(crashee)\n",
    "                    crash = crash or crashee.node.coords\n",
    "        return crash\n",
    "        "
   ]
  },
  {
   "cell_type": "code",
   "execution_count": 49,
   "metadata": {
    "ExecuteTime": {
     "end_time": "2018-12-13T10:41:53.896232Z",
     "start_time": "2018-12-13T10:41:53.706944Z"
    }
   },
   "outputs": [
    {
     "data": {
      "text/plain": [
       "(83, 49)"
      ]
     },
     "execution_count": 49,
     "metadata": {},
     "output_type": "execute_result"
    }
   ],
   "source": [
    "b = Board('input.txt')\n",
    "crash = None\n",
    "while not crash:\n",
    "    crash = b.tick()\n",
    "crash"
   ]
  },
  {
   "cell_type": "code",
   "execution_count": 50,
   "metadata": {
    "ExecuteTime": {
     "end_time": "2018-12-13T10:42:58.324370Z",
     "start_time": "2018-12-13T10:42:57.987390Z"
    }
   },
   "outputs": [
    {
     "data": {
      "text/plain": [
       "(73, 36)"
      ]
     },
     "execution_count": 50,
     "metadata": {},
     "output_type": "execute_result"
    }
   ],
   "source": [
    "b = Board('input.txt')\n",
    "while(len(b.carts) > 1):\n",
    "    b.tick()\n",
    "b.carts.pop().node.coords"
   ]
  }
 ],
 "metadata": {
  "kernelspec": {
   "display_name": "Python 3",
   "language": "python",
   "name": "python3"
  },
  "language_info": {
   "codemirror_mode": {
    "name": "ipython",
    "version": 3
   },
   "file_extension": ".py",
   "mimetype": "text/x-python",
   "name": "python",
   "nbconvert_exporter": "python",
   "pygments_lexer": "ipython3",
   "version": "3.5.0"
  }
 },
 "nbformat": 4,
 "nbformat_minor": 2
}
