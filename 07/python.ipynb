{
 "cells": [
  {
   "cell_type": "code",
   "execution_count": 34,
   "metadata": {},
   "outputs": [],
   "source": [
    "from collections import defaultdict\n",
    "\n",
    "def parse(filename):\n",
    "    deps = defaultdict(set)\n",
    "    peds = defaultdict(set)\n",
    "    ready = set()\n",
    "    with open(filename) as infile:\n",
    "        for l in infile:\n",
    "            l = l.strip()\n",
    "            l = l.split()\n",
    "            a, b = l[1], l[7]\n",
    "            if a not in deps:\n",
    "                ready.add(a)\n",
    "            if b in ready:\n",
    "                ready.remove(b)\n",
    "            deps[b].add(a)\n",
    "            peds[a].add(b)\n",
    "    return deps, peds, ready\n"
   ]
  },
  {
   "cell_type": "code",
   "execution_count": 53,
   "metadata": {},
   "outputs": [
    {
     "data": {
      "text/plain": [
       "'GKPTSLUXBIJMNCADFOVHEWYQRZ'"
      ]
     },
     "execution_count": 53,
     "metadata": {},
     "output_type": "execute_result"
    }
   ],
   "source": [
    "deps, peds, ready = parse('input.txt')\n",
    "steps = []\n",
    "while ready:\n",
    "    ready = sorted(ready)\n",
    "    a = ready.pop(0)\n",
    "    steps.append(a)\n",
    "    for b in peds[a]:\n",
    "        deps[b].remove(a)\n",
    "        if not deps[b]:\n",
    "            ready.append(b)\n",
    "''.join(steps)"
   ]
  },
  {
   "cell_type": "code",
   "execution_count": 54,
   "metadata": {},
   "outputs": [
    {
     "data": {
      "text/plain": [
       "920"
      ]
     },
     "execution_count": 54,
     "metadata": {},
     "output_type": "execute_result"
    }
   ],
   "source": [
    "from heapq import heappop, heappush, heapify\n",
    "\n",
    "WORKERS = 5\n",
    "BASE_TIME = 60\n",
    "\n",
    "times = {a: BASE_TIME + i for i, a in enumerate('ABCDEFGHIJKLMNOPQRSTUVWXYZ', 1)}\n",
    "\n",
    "deps, peds, ready = parse('input.txt')\n",
    "h = []\n",
    "next_h = list(ready)\n",
    "heapify(next_h)\n",
    "completed = []\n",
    "t = 0\n",
    "while h or next_h:\n",
    "    while next_h and len(h) < WORKERS:\n",
    "        a = heappop(next_h)\n",
    "        heappush(h, (t + times[a], a))\n",
    "    while True:\n",
    "        t, a = heappop(h)\n",
    "        completed.append(a)\n",
    "        for b in peds[a]:\n",
    "            deps[b].remove(a)\n",
    "            if not deps[b]:\n",
    "                heappush(next_h, b)\n",
    "        if not h or h[0][0] != t:\n",
    "            break\n",
    "''.join(completed)\n",
    "t"
   ]
  },
  {
   "cell_type": "code",
   "execution_count": null,
   "metadata": {},
   "outputs": [],
   "source": []
  }
 ],
 "metadata": {
  "kernelspec": {
   "display_name": "Python 3",
   "language": "python",
   "name": "python3"
  },
  "language_info": {
   "codemirror_mode": {
    "name": "ipython",
    "version": 3
   },
   "file_extension": ".py",
   "mimetype": "text/x-python",
   "name": "python",
   "nbconvert_exporter": "python",
   "pygments_lexer": "ipython3",
   "version": "3.5.0"
  }
 },
 "nbformat": 4,
 "nbformat_minor": 2
}
