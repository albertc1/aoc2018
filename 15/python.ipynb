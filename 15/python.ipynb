{
 "cells": [
  {
   "cell_type": "code",
   "execution_count": 116,
   "metadata": {
    "ExecuteTime": {
     "end_time": "2018-12-15T09:40:50.287349Z",
     "start_time": "2018-12-15T09:40:50.262388Z"
    }
   },
   "outputs": [],
   "source": [
    "from collections import deque\n",
    "\n",
    "\n",
    "class VictoryFlag(Exception):\n",
    "    pass\n",
    "\n",
    "\n",
    "class ElfDead(Exception):\n",
    "    pass\n",
    "\n",
    "\n",
    "\n",
    "class Dude:\n",
    "    node = None\n",
    "    enemy = None\n",
    "    friends = None\n",
    "    hp = None\n",
    "    power = None\n",
    "\n",
    "    def __init__(self, node):\n",
    "        assert(node.dude is None)\n",
    "        self.node = node\n",
    "        node.dude = self\n",
    "        self.friends.add(self)\n",
    "\n",
    "    def move(self):\n",
    "        if not self.enemy.friends:\n",
    "            raise VictoryFlag()\n",
    "\n",
    "        # Don't move if next to enemy\n",
    "        if self._near_enemy(self.node):\n",
    "            return\n",
    "        \n",
    "        next_node = self._find_move()\n",
    "        if next_node:\n",
    "            next_node.dude = self\n",
    "            self.node.dude = None\n",
    "            self.node = next_node\n",
    "\n",
    "    def attack(self):\n",
    "        enemies = [n.dude for n in self.node.links if isinstance(n.dude, self.enemy)]\n",
    "        if not enemies:\n",
    "            return\n",
    "        target = sorted(enemies, key=lambda e: (e.hp, e.node.pos))[0]\n",
    "        target.hp -= self.power\n",
    "        if target.hp < 1:\n",
    "            target.die()\n",
    "\n",
    "    def die(self):\n",
    "        self.friends.remove(self)\n",
    "        self.node.dude = None\n",
    "\n",
    "            \n",
    "    @classmethod\n",
    "    def _near_enemy(cls, node):\n",
    "        return any(isinstance(n.dude, cls.enemy) for n in node.links)\n",
    "\n",
    "    def _find_move(self):\n",
    "        # Breadth-first search to find an empty space near an enemy\n",
    "        seen = {self.node}\n",
    "        new_fringe = [(None, self.node)]\n",
    "        fringe = []\n",
    "        donezo = []\n",
    "        while not donezo:\n",
    "            if not new_fringe:\n",
    "                return None\n",
    "            fringe, new_fringe = new_fringe, []\n",
    "            for prev_start, node in fringe:\n",
    "                for next_node in node.links:\n",
    "                    start = prev_start or next_node\n",
    "                    if next_node.dude or next_node in seen:\n",
    "                        continue\n",
    "                    if self._near_enemy(next_node):\n",
    "                        donezo.append((next_node.pos, start.pos, start))\n",
    "                    seen.add(next_node)\n",
    "                    new_fringe.append((start, next_node))\n",
    "        return sorted(donezo)[0][2]\n",
    "\n",
    "\n",
    "class Goblin(Dude):\n",
    "    friends = None\n",
    "    enemy = None\n",
    "    power = 3\n",
    "    hp = 200\n",
    "    \n",
    "class Elf(Dude):\n",
    "    friends = None\n",
    "    enemy = None\n",
    "    power = 3\n",
    "    hp = 200\n",
    "\n",
    "    def die(self):\n",
    "        super().die()\n",
    "        raise ElfDead()\n",
    "    \n",
    "class Node:\n",
    "    dude = None\n",
    "    links = None\n",
    "    pos = None\n",
    "    \n",
    "    def __init__(self, row, col, top_node, left_node):\n",
    "        self.links = []\n",
    "        self.pos = (row, col)\n",
    "        if top_node:\n",
    "            self.links.append(top_node)\n",
    "            top_node.links.append(self)\n",
    "        if left_node:\n",
    "            self.links.append(left_node)\n",
    "            left_node.links.append(self)\n",
    "            \n",
    "            \n",
    "class Board:\n",
    "    turns = None\n",
    "    nodes = {}\n",
    "\n",
    "    def __init__(self, filename):\n",
    "        self.turns = 0\n",
    "        Goblin.friends = set()\n",
    "        Elf.friends = set()\n",
    "        Goblin.enemy = Elf\n",
    "        Elf.enemy = Goblin\n",
    "\n",
    "        parse_node = {\n",
    "            '.': (Node, None),\n",
    "            '#': (None, None),\n",
    "            'G': (Node, Goblin),\n",
    "            'E': (Node, Elf),\n",
    "        }\n",
    "\n",
    "        with open(filename) as infile:\n",
    "            row = None\n",
    "            for r, l in enumerate(infile):\n",
    "                prev_row = row\n",
    "                row = []\n",
    "                for c, rune in enumerate(l.strip()):\n",
    "                    node = None\n",
    "                    node_class, dude_class = parse_node[rune]\n",
    "                    if node_class:\n",
    "                        node = node_class(r, c, prev_row[c], row[-1])\n",
    "                        self.nodes[(r,c)] = node\n",
    "                    if dude_class:\n",
    "                        dude_class(node)\n",
    "                    row.append(node)\n",
    "      \n",
    "    def tick(self):\n",
    "        dudes = Elf.friends | Goblin.friends\n",
    "        for d in sorted(dudes, key=lambda d: d.node.pos):\n",
    "            if d.hp < 1:\n",
    "                continue\n",
    "            try:\n",
    "                d.move()\n",
    "            except VictoryFlag:\n",
    "                return True\n",
    "            \n",
    "            try:\n",
    "                d.attack()\n",
    "            except ElfDead:\n",
    "                # Hacky, i know..\n",
    "                if Elf.power > 3:\n",
    "                    raise\n",
    "        self.turns += 1\n",
    "    \n",
    "    def run(self, elf_power=3):\n",
    "        Elf.power = elf_power\n",
    "        while Elf.friends and Goblin.friends:\n",
    "#             print(self.turns, len(Goblin.friends), len(Elf.friends))\n",
    "            self.tick()\n",
    "        return(self.turns * (sum(d.hp for d in (Elf.friends | Goblin.friends))))\n"
   ]
  },
  {
   "cell_type": "code",
   "execution_count": 118,
   "metadata": {
    "ExecuteTime": {
     "end_time": "2018-12-15T09:41:00.406643Z",
     "start_time": "2018-12-15T09:40:59.259722Z"
    }
   },
   "outputs": [
    {
     "data": {
      "text/plain": [
       "269430"
      ]
     },
     "execution_count": 118,
     "metadata": {},
     "output_type": "execute_result"
    }
   ],
   "source": [
    "b = Board('input.txt')\n",
    "b.run()"
   ]
  },
  {
   "cell_type": "code",
   "execution_count": 7,
   "metadata": {
    "ExecuteTime": {
     "end_time": "2018-12-15T07:31:41.360022Z",
     "start_time": "2018-12-15T07:31:41.356477Z"
    }
   },
   "outputs": [],
   "source": [
    "def debug():\n",
    "    print(b.turns)\n",
    "    for d in sorted(Goblin.friends | Elf.friends, key=lambda d: d.node.pos):\n",
    "        print(type(d).__name__[0], d.node.pos, d.hp)"
   ]
  },
  {
   "cell_type": "code",
   "execution_count": 111,
   "metadata": {
    "ExecuteTime": {
     "end_time": "2018-12-15T09:21:55.317468Z",
     "start_time": "2018-12-15T09:21:52.889459Z"
    },
    "scrolled": true
   },
   "outputs": [
    {
     "name": "stdout",
     "output_type": "stream",
     "text": [
      "4\n",
      "5\n",
      "6\n",
      "7\n",
      "8\n",
      "9\n",
      "10\n",
      "11\n",
      "12\n",
      "13\n",
      "14\n",
      "15\n",
      "16\n",
      "17\n",
      "18\n",
      "19\n",
      "55160\n"
     ]
    }
   ],
   "source": [
    "elf_power = 3\n",
    "while elf_power <= 200:\n",
    "    elf_power += 1\n",
    "    print(elf_power)\n",
    "    b = Board(\"input.txt\")\n",
    "    try:\n",
    "        b.run(elf_power)\n",
    "    except ElfDead:\n",
    "        continue\n",
    "    break\n"
   ]
  },
  {
   "cell_type": "code",
   "execution_count": null,
   "metadata": {},
   "outputs": [],
   "source": []
  }
 ],
 "metadata": {
  "kernelspec": {
   "display_name": "Python 3",
   "language": "python",
   "name": "python3"
  },
  "language_info": {
   "codemirror_mode": {
    "name": "ipython",
    "version": 3
   },
   "file_extension": ".py",
   "mimetype": "text/x-python",
   "name": "python",
   "nbconvert_exporter": "python",
   "pygments_lexer": "ipython3",
   "version": "3.5.0"
  }
 },
 "nbformat": 4,
 "nbformat_minor": 2
}
