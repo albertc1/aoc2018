{
 "cells": [
  {
   "cell_type": "code",
   "execution_count": 12,
   "metadata": {},
   "outputs": [],
   "source": [
    "from collections import defaultdict\n",
    "from functools import partial\n",
    "\n",
    "msgs = []\n",
    "with open('input.txt') as infile:\n",
    "    for l in infile:\n",
    "        d, t, msg = l.strip().split(' ', 2)\n",
    "        msgs.append((d, t, msg))\n",
    "\n",
    "msgs.sort()\n",
    "guards = {}\n",
    "start = None\n",
    "\n",
    "def _incr(arr, start, end):\n",
    "    for i in range(start, end):\n",
    "        arr[i] += 1\n",
    "\n",
    "for _, t, msg in msgs:\n",
    "    if msg.startswith('Guard #'):\n",
    "        if start is not None:\n",
    "            _incr(times, start, 60)\n",
    "            start = None\n",
    "        guard_id = int(msg.split(' ')[1][1:])\n",
    "        times = guards.get(guard_id, [0] * 60)\n",
    "        guards[guard_id] = times\n",
    "    elif msg.startswith('falls'):\n",
    "        start = int(t[3:5])\n",
    "    elif msg.startswith('wakes'):\n",
    "        end = int(t[3:5])\n",
    "        _incr(times, start, end)\n",
    "        start = None\n"
   ]
  },
  {
   "cell_type": "code",
   "execution_count": 14,
   "metadata": {},
   "outputs": [
    {
     "data": {
      "text/plain": [
       "(3371, 39)"
      ]
     },
     "execution_count": 14,
     "metadata": {},
     "output_type": "execute_result"
    }
   ],
   "source": [
    "_, gid = max([(sum(t), gid) for gid, t in guards.items()])\n",
    "_, minute = max(\n",
    "    [asleep_time, minute] \n",
    "    for minute, asleep_time in enumerate(guards[gid])\n",
    ")\n",
    "gid, minute"
   ]
  },
  {
   "cell_type": "code",
   "execution_count": 15,
   "metadata": {},
   "outputs": [
    {
     "data": {
      "text/plain": [
       "131469"
      ]
     },
     "execution_count": 15,
     "metadata": {},
     "output_type": "execute_result"
    }
   ],
   "source": [
    "3371 * 39"
   ]
  },
  {
   "cell_type": "code",
   "execution_count": 18,
   "metadata": {},
   "outputs": [
    {
     "data": {
      "text/plain": [
       "96951"
      ]
     },
     "execution_count": 18,
     "metadata": {},
     "output_type": "execute_result"
    }
   ],
   "source": [
    "_, minute, gid = max([\n",
    "    max([\n",
    "        (asleep_time, minute, gid)\n",
    "        for gid, t in guards.items()\n",
    "        for minute, asleep_time in enumerate(guards[gid])\n",
    "    ])\n",
    "])\n",
    "minute * gid"
   ]
  },
  {
   "cell_type": "code",
   "execution_count": null,
   "metadata": {},
   "outputs": [],
   "source": []
  }
 ],
 "metadata": {
  "kernelspec": {
   "display_name": "Python 3",
   "language": "python",
   "name": "python3"
  },
  "language_info": {
   "codemirror_mode": {
    "name": "ipython",
    "version": 3
   },
   "file_extension": ".py",
   "mimetype": "text/x-python",
   "name": "python",
   "nbconvert_exporter": "python",
   "pygments_lexer": "ipython3",
   "version": "3.5.0"
  }
 },
 "nbformat": 4,
 "nbformat_minor": 2
}
