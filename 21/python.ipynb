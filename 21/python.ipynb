{
 "cells": [
  {
   "cell_type": "code",
   "execution_count": null,
   "metadata": {},
   "outputs": [],
   "source": [
    "# #ip 5\n",
    "# 00 seti 123 _ 1      # r1 = 123\n",
    "# 01 bani 1 456 1      # \n",
    "# 02 eqri 1 72 1       #\n",
    "# 03 addr 1 5 5        # GOTO 05 if bitwise check passes\n",
    "# 04 seti 0 _ 5        # GOTO 1 loop forever\n",
    "# 05 seti 0 _ 1        # reset r1\n",
    "\n",
    "# 06 bori 1 65536 4    # r4 = r1 or 65536 (10000000000000000)\n",
    "# 07 seti 12772194 _ 1 # r1 = 12772194\n",
    "# 08 bani 4 255 3      # r3 = 255 (11111111) & r4 \n",
    "# 09 addr 1 3 1        # r1 += r3\n",
    "# 10 bani 1 16777215 1 # r1 &= 16777215\n",
    "# 11 muli 1 65899 1    # r1 *= 65899\n",
    "# 12 bani 1 16777215 1 # r1 &= 16777215\n",
    "# 13 gtir 256 4 3      # if 256 <= r4:\n",
    "# 14 addr 3 5 5        #    r3 = 0\n",
    "# 15 addi 5 1 5        #    GOTO 18\n",
    "# 16 seti 27 _ 5       # else:\n",
    "# 17 seti 0 _ 3        #    GOTO 28\n",
    "# 18 addi 3 1 2        # r2 = 1 + r3\n",
    "# 19 muli 2 256 2      # r2 *= 256\n",
    "# 20 gtrr 2 4 2        # if r2 <= r4:\n",
    "# 21 addr 2 5 5        #     r2 = 0, GOTO 24 \n",
    "# 22 addi 5 1 5        # else:\n",
    "# 23 seti 25 _ 5       #     r2 = 1, GOTO 26\n",
    "# 24 addi 3 1 3        # r3 += 1\n",
    "# 25 seti 17 _ 5       # GOTO 18\n",
    "# 26 setr 3 _ 4        # r4 = r3\n",
    "# 27 seti 7 _ 5        # GOTO 8\n",
    "# 28 eqrr 1 0 3        # if r1 = r0:\n",
    "# 29 addr 3 5 5        #     HALT\n",
    "# 30 seti 5 _ 5        # GOTO 6"
   ]
  },
  {
   "cell_type": "code",
   "execution_count": 64,
   "metadata": {
    "ExecuteTime": {
     "end_time": "2018-12-21T16:20:44.881896Z",
     "start_time": "2018-12-21T16:20:44.850113Z"
    }
   },
   "outputs": [],
   "source": [
    "from collections import namedtuple, defaultdict\n",
    "\n",
    "OPS = {\n",
    "    \"addr\": lambda a, b, reg: reg[a] + reg[b],\n",
    "    \"addi\": lambda a, b, reg: reg[a] + b,\n",
    "    \"mulr\": lambda a, b, reg: reg[a] * reg[b],\n",
    "    \"muli\": lambda a, b, reg: reg[a] * b,\n",
    "    \"banr\": lambda a, b, reg: reg[a] & reg[b],\n",
    "    \"bani\": lambda a, b, reg: reg[a] & b,\n",
    "    \"borr\": lambda a, b, reg: reg[a] | reg[b],\n",
    "    \"bori\": lambda a, b, reg: reg[a] | b,\n",
    "    \"setr\": lambda a, b, reg: reg[a],\n",
    "    \"seti\": lambda a, b, reg: a,\n",
    "    \"gtir\": lambda a, b, reg: 1 if a > reg[b] else 0,\n",
    "    \"gtri\": lambda a, b, reg: 1 if reg[a] > b else 0,\n",
    "    \"gtrr\": lambda a, b, reg: 1 if reg[a] > reg[b] else 0,\n",
    "    \"eqir\": lambda a, b, reg: 1 if a == reg[b] else 0,\n",
    "    \"eqri\": lambda a, b, reg: 1 if reg[a] == b else 0,\n",
    "    \"eqrr\": lambda a, b, reg: 1 if reg[a] == reg[b] else 0,\n",
    "}\n",
    "\n",
    "class Board:\n",
    "    \n",
    "    ip = None    \n",
    "    prog = None\n",
    "    reg = None\n",
    "    seen = set()\n",
    "    \n",
    "    def __init__(self, filename, init=None):\n",
    "        self.prog = prog = []\n",
    "        self.reg = init and init.copy() or [0, 0, 0, 0, 0, 0]\n",
    "        with open(filename) as infile:\n",
    "            self.ip = int(infile.readline().strip().split()[-1])\n",
    "            for l in infile:\n",
    "                instr, a, b, c = l.strip().split()\n",
    "                prog.append((OPS[instr], int(a), int(b), int(c)))\n",
    "    \n",
    "    def run(self, t=1, debug=False):\n",
    "        reg = self.reg\n",
    "        prog = self.prog\n",
    "        for _ in range(t):\n",
    "            if not (0 <= reg[5] < len(prog)):\n",
    "                break\n",
    "            if reg[5] == 28:\n",
    "                return(reg[1])\n",
    "            op, a, b, c = prog[reg[5]]\n",
    "            reg[c] = op(a, b, reg)\n",
    "            reg[5] += 1\n",
    "            if debug:\n",
    "                print(reg)\n"
   ]
  },
  {
   "cell_type": "code",
   "execution_count": 65,
   "metadata": {
    "ExecuteTime": {
     "end_time": "2018-12-21T16:20:45.806711Z",
     "start_time": "2018-12-21T16:20:45.798041Z"
    }
   },
   "outputs": [
    {
     "data": {
      "text/plain": [
       "2159153"
      ]
     },
     "execution_count": 65,
     "metadata": {},
     "output_type": "execute_result"
    }
   ],
   "source": [
    "b = Board('input.txt', init=[0,0,0,0,0,0])\n",
    "b.run(100000, debug=False)\n"
   ]
  },
  {
   "cell_type": "code",
   "execution_count": 66,
   "metadata": {
    "ExecuteTime": {
     "end_time": "2018-12-21T16:20:48.981149Z",
     "start_time": "2018-12-21T16:20:48.937213Z"
    }
   },
   "outputs": [
    {
     "name": "stdout",
     "output_type": "stream",
     "text": [
      "DONE:  7494885\n"
     ]
    }
   ],
   "source": [
    "r1, r2, r3, r4, r5, r0 = [0] * 6\n",
    "seen = set()\n",
    "prev_r1 = None\n",
    "while True:\n",
    "    if r1 in seen:\n",
    "        print('DONE: ', prev_r1)\n",
    "        break\n",
    "    prev_r1 = r1\n",
    "    seen.add(r1)\n",
    "    r4 = r1 | 65536\n",
    "    r1 = 12772194\n",
    "    while True:\n",
    "        r3 = 255 & r4 \n",
    "        r1 += r3\n",
    "        r1 &= 16777215\n",
    "        r1 *= 65899\n",
    "        r1 &= 16777215\n",
    "        if r4 < 256:\n",
    "            break\n",
    "        r4 = r4 >> 8\n"
   ]
  },
  {
   "cell_type": "code",
   "execution_count": null,
   "metadata": {},
   "outputs": [],
   "source": []
  }
 ],
 "metadata": {
  "kernelspec": {
   "display_name": "Python 3",
   "language": "python",
   "name": "python3"
  },
  "language_info": {
   "codemirror_mode": {
    "name": "ipython",
    "version": 3
   },
   "file_extension": ".py",
   "mimetype": "text/x-python",
   "name": "python",
   "nbconvert_exporter": "python",
   "pygments_lexer": "ipython3",
   "version": "3.5.0"
  }
 },
 "nbformat": 4,
 "nbformat_minor": 2
}
