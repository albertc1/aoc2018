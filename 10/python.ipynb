{
 "cells": [
  {
   "cell_type": "code",
   "execution_count": 1,
   "metadata": {},
   "outputs": [],
   "source": [
    "import re\n",
    "from collections import namedtuple, defaultdict\n",
    "\n",
    "def _fmt(x):\n",
    "    return int(x.strip())\n",
    "\n",
    "def parse_grid():\n",
    "    grid = defaultdict(list)\n",
    "    with open('input.txt') as infile:\n",
    "        for l in infile:\n",
    "            l = l.strip()\n",
    "            # position=< 50240, -19879> velocity=<-5,  2>\n",
    "            _, x, y, _, dx, dy, _ = re.split(r'[<,>]', l)\n",
    "            grid[(_fmt(x), _fmt(y))].append((_fmt(dx), _fmt(dy)))\n",
    "    return grid"
   ]
  },
  {
   "cell_type": "markdown",
   "metadata": {},
   "source": [
    "## initial crappy O(seconds * input_size) solution"
   ]
  },
  {
   "cell_type": "code",
   "execution_count": 2,
   "metadata": {},
   "outputs": [],
   "source": [
    "def _connected(grid, x, y):\n",
    "    for dx in [-1, 0, 1]:\n",
    "        for dy in [-1, 0, 1]:\n",
    "            if (dx or dy) and ((x + dx, y + dy) in grid):\n",
    "                return True\n",
    "    return False\n",
    "    \n",
    "def done(grid):\n",
    "    for x, y in grid:\n",
    "        if not _connected(grid, x, y):\n",
    "            return False\n",
    "    return True"
   ]
  },
  {
   "cell_type": "code",
   "execution_count": 3,
   "metadata": {},
   "outputs": [],
   "source": [
    "def tick(grid, times = 1):\n",
    "    new_grid = defaultdict(list)\n",
    "    for (x, y), deltas in grid.items():\n",
    "        for dx, dy in deltas:\n",
    "            new_grid[(x + dx * times, y + dy * times)].append((dx, dy))\n",
    "    return new_grid"
   ]
  },
  {
   "cell_type": "code",
   "execution_count": 4,
   "metadata": {},
   "outputs": [],
   "source": [
    "def get_dimensions(grid):\n",
    "    min_x = min(x for x, _ in grid)\n",
    "    min_y = min(y for _, y in grid)\n",
    "    max_x = max(x for x, _ in grid)\n",
    "    max_y = max(y for _, y in grid)\n",
    "\n",
    "    h = max_y - min_y + 1\n",
    "    w = max_x - min_x + 1\n",
    "    \n",
    "    return (min_x, min_y, w, h)\n",
    "\n",
    "def display(grid):\n",
    "    min_x, min_y, w, h = get_dimensions(grid)\n",
    "\n",
    "    if h > 1000 or w > 1000:\n",
    "        raise ValueError('grid too big: {} x {}'.format(w, h))\n",
    "    \n",
    "    for y in range(min_y, min_y + h):\n",
    "        row = []\n",
    "        for x in range(min_x, min_x + w):\n",
    "            if (x, y) in grid:\n",
    "                row.append('#')\n",
    "            else:\n",
    "                row.append(' ')\n",
    "        print(''.join(row))\n"
   ]
  },
  {
   "cell_type": "code",
   "execution_count": 6,
   "metadata": {},
   "outputs": [
    {
     "name": "stdout",
     "output_type": "stream",
     "text": [
      "1000\n",
      "2000\n",
      "3000\n",
      "4000\n",
      "5000\n",
      "6000\n",
      "7000\n",
      "8000\n",
      "9000\n",
      "10000\n",
      "10003\n",
      " ####   ######  #    #  #####   #    #    ##    #####   #    #\n",
      "#    #       #  #   #   #    #  ##   #   #  #   #    #  ##   #\n",
      "#            #  #  #    #    #  ##   #  #    #  #    #  ##   #\n",
      "#           #   # #     #    #  # #  #  #    #  #    #  # #  #\n",
      "#          #    ##      #####   # #  #  #    #  #####   # #  #\n",
      "#         #     ##      #       #  # #  ######  #  #    #  # #\n",
      "#        #      # #     #       #  # #  #    #  #   #   #  # #\n",
      "#       #       #  #    #       #   ##  #    #  #   #   #   ##\n",
      "#    #  #       #   #   #       #   ##  #    #  #    #  #   ##\n",
      " ####   ######  #    #  #       #    #  #    #  #    #  #    #\n"
     ]
    }
   ],
   "source": [
    "g = parse_grid()\n",
    "x = 0\n",
    "while not done(g):\n",
    "    x += 1\n",
    "    g = tick(g)\n",
    "    if not x % 1000:\n",
    "        print(x)\n",
    "print(x)\n",
    "display(g)"
   ]
  },
  {
   "cell_type": "markdown",
   "metadata": {},
   "source": [
    "## ~O(input_size) solution "
   ]
  },
  {
   "cell_type": "code",
   "execution_count": 7,
   "metadata": {},
   "outputs": [
    {
     "name": "stdout",
     "output_type": "stream",
     "text": [
      "=== t: 10003 ===\n",
      " ####   ######  #    #  #####   #    #    ##    #####   #    #\n",
      "#    #       #  #   #   #    #  ##   #   #  #   #    #  ##   #\n",
      "#            #  #  #    #    #  ##   #  #    #  #    #  ##   #\n",
      "#           #   # #     #    #  # #  #  #    #  #    #  # #  #\n",
      "#          #    ##      #####   # #  #  #    #  #####   # #  #\n",
      "#         #     ##      #       #  # #  ######  #  #    #  # #\n",
      "#        #      # #     #       #  # #  #    #  #   #   #  # #\n",
      "#       #       #  #    #       #   ##  #    #  #   #   #   ##\n",
      "#    #  #       #   #   #       #   ##  #    #  #    #  #   ##\n",
      " ####   ######  #    #  #       #    #  #    #  #    #  #    #\n",
      "\n",
      "\n",
      "=== t: 10004 ===\n",
      "                         ##                #                #    #      \n",
      "            #    #   #        #   #         #                   #   #   \n",
      "  #      #  # #  #          #  #          ## #              #    #      \n",
      "            #         #  #      # # ##   #         # #   ## # #         \n",
      "    #        #            # #    #   #     #    ##         # #          \n",
      " #  #   #        #    # #   # #      ##   ### #       # ## ##     #     \n",
      "         #     ##         # ###     ##    # # ## ### ####   ######  #   \n",
      "      #   ## #####       #       ##  ### #  #     # #  #   ##       #   \n",
      "## #      #     #  # #  # ### # ###      # ##   ### #   #    #  # # #   \n",
      "  # #  #  #   # # #  #  ### ### # # ##         # # #  #    ## #         \n",
      "        ## ###   ###  # # ## #    #### #   ###  ## #    ##    ## #      \n",
      "         #    #  # # # #    #       # #  # #  #  # #  ## ##          ## \n",
      "            ##      #     ##   # #         #   ##    ###           #    \n",
      "              #  #         # #    #    ## #  #  #     #  #   # #     ###\n",
      " #      # #            #       ## # # #  # #   ## #             #       \n",
      "      #  # # #                   #  #     #  # # #  #  #      #         \n",
      "                   ##  #      #          # #               ##       ##  \n",
      "#  ##          #     ##             #  ##     #          #    ##        \n",
      "     #       #  #          #                       #                    \n",
      " #                 ##           #             #                         \n",
      "\n",
      "\n",
      "=== t: 10005 ===\n",
      "                          # #              #                    #    #            \n",
      "                                                                   #              \n",
      "             #          #     #     # ##      #                          # #      \n",
      "               #          #                   #   ## #   #      #   #             \n",
      "  #       #       # #       #  #  # #      #                        ## #          \n",
      "  #           #                #    #        #  ##      #    ## #      # #        \n",
      "        #   #          #    #   #   #  #      # # #   #  #    # #  ##     #       \n",
      "        #         # # #           #       #        #   # # ##  # # # ##           \n",
      "                 #      ##    ##  # ##    #     #  ##   #   ####       ##  #      \n",
      "      #         #  #    #   #     #  #  #   ###    ##  #             ##  #        \n",
      "  #     #           #                #             #  #  ##  #                    \n",
      "                 #    #             #   #      #  #       #      # #              \n",
      "#   #     #     ##   #         #  #                #  #### ###  #   ###           \n",
      "            # #     ####         #    #      #    #         ##      #             \n",
      "              # # #   #            #        ##     #     ## #      #       #    # \n",
      "                #     #        #      #   # #     # #  # #       ##            #  \n",
      "                # #   #    #### # #    ##  #    #      #  # #           ##        \n",
      "                    ##  #    #  #   ##   #              # #         #            #\n",
      "             #               #  #   ##     #     #                 #     #        \n",
      "           #                #       ## ##    #  #    #  ##       #  #        ##   \n",
      "                  #  #   ###  #        ##           ####     # #  #               \n",
      "         #                    #     #   #       # #   #   ##     #                \n",
      "       #   #    #          #   # #           #   ##       #      #                \n",
      "  #                         ##           #  #    #         ##   #  #    #      #  \n",
      "                 #            #       # #    ##  #      #                         \n",
      "    ##      #     #          #    #        #     ##        #  #               #   \n",
      "#       #                           #                   #                  #      \n",
      "       #               ###  #           ##            #   #    #      #           \n",
      "                              #                                                   \n",
      " #                    #       #         #      #                                  \n",
      "\n",
      "\n"
     ]
    }
   ],
   "source": [
    "g = parse_grid()\n",
    "_, _, w0, h0 = get_dimensions(g)\n",
    "_, _, w1, h1 = get_dimensions(tick(g))\n",
    "dw = w0 - w1\n",
    "dh = h0 - h1\n",
    "\n",
    "base_t = min(w0 // dw, h0 // dh)\n",
    "for t in range(base_t - 1, base_t + 2):\n",
    "    print('=== t: %s ===' % t)\n",
    "    display(tick(g, t))\n",
    "    print('\\n')"
   ]
  },
  {
   "cell_type": "code",
   "execution_count": null,
   "metadata": {},
   "outputs": [],
   "source": []
  }
 ],
 "metadata": {
  "kernelspec": {
   "display_name": "Python 3",
   "language": "python",
   "name": "python3"
  },
  "language_info": {
   "codemirror_mode": {
    "name": "ipython",
    "version": 3
   },
   "file_extension": ".py",
   "mimetype": "text/x-python",
   "name": "python",
   "nbconvert_exporter": "python",
   "pygments_lexer": "ipython3",
   "version": "3.5.0"
  }
 },
 "nbformat": 4,
 "nbformat_minor": 2
}
