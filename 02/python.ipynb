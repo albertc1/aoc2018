{
 "cells": [
  {
   "cell_type": "code",
   "execution_count": 2,
   "metadata": {},
   "outputs": [],
   "source": [
    "vals = []\n",
    "with open('input.txt') as infile:\n",
    "    for l in infile:\n",
    "        l = l.strip()\n",
    "        vals.append(l)"
   ]
  },
  {
   "cell_type": "code",
   "execution_count": 5,
   "metadata": {},
   "outputs": [],
   "source": [
    "from collections import Counter\n",
    "def count23(vals):\n",
    "    twos = 0\n",
    "    threes = 0\n",
    "    for v in vals:\n",
    "        counts = Counter(v)\n",
    "        if 2 in counts.values():\n",
    "            twos += 1\n",
    "        if 3 in counts.values():\n",
    "            threes += 1\n",
    "    return twos, threes"
   ]
  },
  {
   "cell_type": "code",
   "execution_count": 8,
   "metadata": {},
   "outputs": [
    {
     "data": {
      "text/plain": [
       "(247, 36)"
      ]
     },
     "execution_count": 8,
     "metadata": {},
     "output_type": "execute_result"
    }
   ],
   "source": [
    "count23(vals)"
   ]
  },
  {
   "cell_type": "code",
   "execution_count": 9,
   "metadata": {},
   "outputs": [
    {
     "data": {
      "text/plain": [
       "8892"
      ]
     },
     "execution_count": 9,
     "metadata": {},
     "output_type": "execute_result"
    }
   ],
   "source": [
    "247 * 36"
   ]
  },
  {
   "cell_type": "markdown",
   "metadata": {},
   "source": [
    "# Part 2"
   ]
  },
  {
   "cell_type": "code",
   "execution_count": 35,
   "metadata": {},
   "outputs": [],
   "source": [
    "from collections import defaultdict\n",
    "\n",
    "def offbyone(vals):\n",
    "    \"\"\"Find 2 strings in list that are off-by-one char\n",
    "    \n",
    "    Assumes all strings are equal length\n",
    "    \n",
    "    Returns:\n",
    "        None if no pair of string is off-by-one\n",
    "        string containing the common letters otherwise\n",
    "    \"\"\"\n",
    "    if len(vals) < 2 or len(vals[0]) == 0:\n",
    "        return None\n",
    "    if len(vals[0]) == 1:\n",
    "        return ''\n",
    "    idx = len(vals[0]) // 2\n",
    "    tops = defaultdict(list)\n",
    "    bottoms = defaultdict(list)\n",
    "    for v in vals:\n",
    "        top, bottom = v[:idx], v[idx:]\n",
    "        tops[top].append(bottom)\n",
    "        bottoms[bottom].append(top)\n",
    "    top, common = _iterate(tops)\n",
    "    if common is not None:\n",
    "        return top + common\n",
    "    bottom, common = _iterate(bottoms)\n",
    "    if common is not None:\n",
    "        return common + bottom\n",
    "    return None\n",
    "    \n",
    "def _iterate(parts):\n",
    "    for k, vs in parts.items():\n",
    "        if len(vs) == 1:\n",
    "            continue\n",
    "        common = offbyone(vs)\n",
    "        if common is not None:\n",
    "            return k, common\n",
    "    return None, None\n",
    "    \n",
    "                "
   ]
  },
  {
   "cell_type": "code",
   "execution_count": 36,
   "metadata": {},
   "outputs": [
    {
     "data": {
      "text/plain": [
       "'a'"
      ]
     },
     "execution_count": 36,
     "metadata": {},
     "output_type": "execute_result"
    }
   ],
   "source": [
    "d = [\n",
    "    'aa',\n",
    "    'ba',\n",
    "]\n",
    "offbyone(d)"
   ]
  },
  {
   "cell_type": "code",
   "execution_count": 37,
   "metadata": {},
   "outputs": [
    {
     "data": {
      "text/plain": [
       "'zihwtxagifpbsnwleydukjmqv'"
      ]
     },
     "execution_count": 37,
     "metadata": {},
     "output_type": "execute_result"
    }
   ],
   "source": [
    "offbyone(vals)"
   ]
  },
  {
   "cell_type": "code",
   "execution_count": null,
   "metadata": {},
   "outputs": [],
   "source": []
  }
 ],
 "metadata": {
  "kernelspec": {
   "display_name": "Python 3",
   "language": "python",
   "name": "python3"
  },
  "language_info": {
   "codemirror_mode": {
    "name": "ipython",
    "version": 3
   },
   "file_extension": ".py",
   "mimetype": "text/x-python",
   "name": "python",
   "nbconvert_exporter": "python",
   "pygments_lexer": "ipython3",
   "version": "3.5.0"
  }
 },
 "nbformat": 4,
 "nbformat_minor": 2
}
