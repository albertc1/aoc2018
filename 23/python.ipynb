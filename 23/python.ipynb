{
 "cells": [
  {
   "cell_type": "code",
   "execution_count": 1,
   "metadata": {
    "ExecuteTime": {
     "end_time": "2018-12-23T13:46:21.626462Z",
     "start_time": "2018-12-23T13:46:21.617446Z"
    }
   },
   "outputs": [],
   "source": [
    "from collections import namedtuple\n",
    "\n",
    "import re\n",
    "\n",
    "Nanobot = namedtuple('Nanobot', ('x', 'y', 'z', 'r'))\n",
    "\n",
    "def get_bots(filename):\n",
    "    bots = []\n",
    "    with open(filename) as infile:\n",
    "        for l in infile:\n",
    "            x, y, z, r = re.sub(r'[^0-9\\-]', ' ', l).split()\n",
    "            bots.append(Nanobot(int(x), int(y), int(z), int(r)))\n",
    "    return bots"
   ]
  },
  {
   "cell_type": "code",
   "execution_count": 2,
   "metadata": {
    "ExecuteTime": {
     "end_time": "2018-12-23T13:46:21.658185Z",
     "start_time": "2018-12-23T13:46:21.628645Z"
    }
   },
   "outputs": [],
   "source": [
    "bots = get_bots('input.txt')\n",
    "big = sorted(bots, key=lambda b: b.r)[-1]\n",
    "\n",
    "def dist(a, b):\n",
    "    return abs(a.x - b.x) + abs(a.y - b.y) + abs(a.z - b.z)\n",
    "\n",
    "def dist_origin(a):\n",
    "    return abs(a.x) + abs(a.y) + abs(a.z)\n",
    "\n",
    "sum(1 for b in bots if dist(big, b) < big.r)"
   ]
  },
  {
   "cell_type": "code",
   "execution_count": 3,
   "metadata": {
    "ExecuteTime": {
     "end_time": "2018-12-23T13:46:21.675156Z",
     "start_time": "2018-12-23T13:46:21.660295Z"
    }
   },
   "outputs": [],
   "source": [
    "from heapq import heappush, heappop\n",
    "\n",
    "Coords = namedtuple('Coords', ('x', 'y', 'z'))\n",
    "\n",
    "class Cube:\n",
    "    best = None  # current best location among ALL cubes [num_in_range, distance, Coords]\n",
    "    hq = None  # heap of Cubes that might contain the optimal solution\n",
    "\n",
    "    root = None  # Coords of corner with lowest x, y, and z\n",
    "    size = None  # length of each side of the cube\n",
    "    def_count = None  # number of bots that are definitely in range of this entire cube\n",
    "    maybe = None  # list of bots that might be in range of parts of this cube but not in \"definitely\"\n",
    "    nearest_dist = None  # lowest Manhattan distance of any point in this cube to origin\n",
    "    max_in_range = None  # max possible bots that might be in range of this cube\n",
    "    \n",
    "    def __init__(self, root, size, bots, def_count):\n",
    "        \"\"\"\n",
    "        Args:\n",
    "            root: Coords of corner with lowest x, y, and z\n",
    "            size: length of each side of the cube.  should be 2^x\n",
    "            bots: list of bots to optimize for \n",
    "            def_count: number of bots not in bots list that are definitely in range of this entire cube\n",
    "        \"\"\"\n",
    "        self.root = root\n",
    "        self.size = size\n",
    "        radius = size // 2\n",
    "        center = Coords(root.x + radius, root.y + radius, root.z + radius)\n",
    "        self.maybe = []\n",
    "        for b in bots:\n",
    "            d = dist(b, center)\n",
    "            if d > (b.r + 3 * radius):\n",
    "                # this cube is completely out of range\n",
    "                continue\n",
    "            if d <= (b.r - 3 * radius):\n",
    "                # all of this cube is in range of b\n",
    "                def_count += 1\n",
    "                continue\n",
    "            self.maybe.append(b)\n",
    "        nearest_coords = Coords(*(\n",
    "            min((abs(coord), coord), (abs(coord + size), coord + size))[1]\n",
    "            for coord in root\n",
    "        ))\n",
    "        self.nearest_dist = dist_origin(nearest_coords)\n",
    "        self.max_in_range = len(self.maybe) + def_count\n",
    "        self.def_count = def_count\n",
    "        if self.maybe_best():\n",
    "            if len(self.maybe) == 0:\n",
    "                # the best point of this cube is the nearest corner\n",
    "                self.set_best(self.def_count, self.nearest_dist, nearest_coords)\n",
    "            else:\n",
    "                heappush(self.hq, self)\n",
    "    \n",
    "    def __lt__(self, other):\n",
    "        # enable heapq sorting\n",
    "        return (-self.max_in_range, self.nearest_dist) < (-other.max_in_range, other.nearest_dist)\n",
    "\n",
    "    def reduce(self):\n",
    "        if not self.maybe_best():\n",
    "            # no point in this cube can possibly be better than the current best\n",
    "            return\n",
    "        \n",
    "        # divide up cube into subcubes\n",
    "        interval = self.size // 2\n",
    "        for x in range(self.root.x, self.root.x + self.size, interval):\n",
    "            for y in range(self.root.y, self.root.y + self.size, interval):\n",
    "                for z in range(self.root.z, self.root.z + self.size, interval):\n",
    "                    Cube(Coords(x, y, z), interval, self.maybe, self.def_count)\n",
    "\n",
    "    @classmethod\n",
    "    def set_best(cls, ct, dst, coords):\n",
    "        cls.best = (ct, dst, coords)\n",
    "        print(cls.best)\n",
    "\n",
    "    @classmethod\n",
    "    def reset(cls):\n",
    "        Cube.best = (0, 0, None)\n",
    "        Cube.hq = []\n",
    "            \n",
    "    def maybe_best(self):\n",
    "        return (self.max_in_range, -self.nearest_dist) > (self.best[0], -self.best[1])\n",
    "        "
   ]
  },
  {
   "cell_type": "code",
   "execution_count": 4,
   "metadata": {
    "ExecuteTime": {
     "end_time": "2018-12-23T13:46:22.952350Z",
     "start_time": "2018-12-23T13:46:21.677654Z"
    }
   },
   "outputs": [
    {
     "name": "stdout",
     "output_type": "stream",
     "text": [
      "(805, 92889285, Coords(x=17733234, y=41114340, z=34041711))\n",
      "(962, 93826283, Coords(x=18374826, y=41219170, z=34232287))\n",
      "(963, 93826284, Coords(x=18374826, y=41219170, z=34232288))\n",
      "(964, 93826285, Coords(x=18374826, y=41219171, z=34232288))\n",
      "(965, 93826287, Coords(x=18374826, y=41219173, z=34232288))\n",
      "(967, 93826287, Coords(x=18374826, y=41219172, z=34232289))\n",
      "(968, 93826289, Coords(x=18374827, y=41219172, z=34232290))\n",
      "(969, 93826291, Coords(x=18374828, y=41219173, z=34232290))\n",
      "(970, 93826293, Coords(x=18374829, y=41219174, z=34232290))\n"
     ]
    }
   ],
   "source": [
    "from math import ceil, log\n",
    "\n",
    "bots = get_bots('input.txt')\n",
    "min_x = min(b.x for b in bots)\n",
    "min_y = min(b.y for b in bots)\n",
    "min_z = min(b.z for b in bots)\n",
    "max_x = max(b.x for b in bots)\n",
    "max_y = max(b.y for b in bots)\n",
    "max_z = max(b.z for b in bots)\n",
    "root = Coords(min_x, min_y, min_z)\n",
    "size = 2 ** ceil(log(max(max_x - min_x, max_y - min_y, max_z - min_z), 2))\n",
    "\n",
    "Cube.reset()\n",
    "main = Cube(root, size, bots, 0)\n",
    "while Cube.hq:\n",
    "    heappop(Cube.hq).reduce()"
   ]
  }
 ],
 "metadata": {
  "kernelspec": {
   "display_name": "Python 3",
   "language": "python",
   "name": "python3"
  },
  "language_info": {
   "codemirror_mode": {
    "name": "ipython",
    "version": 3
   },
   "file_extension": ".py",
   "mimetype": "text/x-python",
   "name": "python",
   "nbconvert_exporter": "python",
   "pygments_lexer": "ipython3",
   "version": "3.5.0"
  }
 },
 "nbformat": 4,
 "nbformat_minor": 2
}
