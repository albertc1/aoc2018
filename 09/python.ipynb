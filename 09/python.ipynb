{
 "cells": [
  {
   "cell_type": "code",
   "execution_count": 8,
   "metadata": {},
   "outputs": [],
   "source": [
    "MAX_MARBLE = 71250\n",
    "MAX_MARBLE *= 100  # PART 2\n",
    "PLAYERS = 452\n",
    "\n",
    "class Node:\n",
    "    def __init__(self, val, clock=None, counter=None):\n",
    "        self.clock = clock\n",
    "        self.counter = counter\n",
    "        self.val = val\n"
   ]
  },
  {
   "cell_type": "code",
   "execution_count": 9,
   "metadata": {},
   "outputs": [
    {
     "data": {
      "text/plain": [
       "3212081616"
      ]
     },
     "execution_count": 9,
     "metadata": {},
     "output_type": "execute_result"
    }
   ],
   "source": [
    "from collections import defaultdict\n",
    "\n",
    "scores = defaultdict(int)\n",
    "cur = Node(0)\n",
    "cur.clock = cur.counter = cur\n",
    "for i in range(1, MAX_MARBLE + 1):\n",
    "    if i % 23:\n",
    "        cur = cur.clock\n",
    "        clock = cur.clock\n",
    "        counter = cur\n",
    "        cur = Node(i, clock, counter)\n",
    "        clock.counter = cur\n",
    "        counter.clock = cur\n",
    "    else:\n",
    "        cur = cur.counter.counter.counter.counter.counter.counter.counter\n",
    "        scores[i % PLAYERS] += i + cur.val\n",
    "        cur.clock.counter = cur.counter\n",
    "        cur.counter.clock = cur.clock\n",
    "        cur = cur.clock\n",
    "        \n",
    "max(list(scores.values()))"
   ]
  },
  {
   "cell_type": "code",
   "execution_count": null,
   "metadata": {},
   "outputs": [],
   "source": []
  }
 ],
 "metadata": {
  "kernelspec": {
   "display_name": "Python 3",
   "language": "python",
   "name": "python3"
  },
  "language_info": {
   "codemirror_mode": {
    "name": "ipython",
    "version": 3
   },
   "file_extension": ".py",
   "mimetype": "text/x-python",
   "name": "python",
   "nbconvert_exporter": "python",
   "pygments_lexer": "ipython3",
   "version": "3.5.0"
  }
 },
 "nbformat": 4,
 "nbformat_minor": 2
}
