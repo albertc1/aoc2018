{
 "cells": [
  {
   "cell_type": "code",
   "execution_count": 3,
   "metadata": {
    "ExecuteTime": {
     "end_time": "2018-12-11T07:05:11.206637Z",
     "start_time": "2018-12-11T07:05:11.201199Z"
    }
   },
   "outputs": [],
   "source": [
    "INPUT = 9445\n",
    "\n",
    "def parse(serial):\n",
    "    \"\"\"\n",
    "    Find the fuel cell's rack ID, which is its X coordinate plus 10.\n",
    "    Begin with a power level of the rack ID times the Y coordinate.\n",
    "    Increase the power level by the value of the grid serial number (your puzzle input).\n",
    "    Set the power level to itself multiplied by the rack ID.\n",
    "    Keep only the hundreds digit of the power level (so 12345 becomes 3; numbers with no hundreds digit become 0).\n",
    "    Subtract 5 from the power level.\n",
    "    \"\"\"\n",
    "    grid = [[0] * 301 for _ in range(301)]\n",
    "\n",
    "    for x in range(1, 301):\n",
    "        rid = x + 10\n",
    "        for y in range(1, 301):\n",
    "            p = rid * y\n",
    "            p += serial\n",
    "            p *= rid\n",
    "            p = p // 100 % 10\n",
    "            p -= 5\n",
    "            grid[x][y] = p\n",
    "    return grid\n"
   ]
  },
  {
   "cell_type": "markdown",
   "metadata": {},
   "source": [
    "## Part 1"
   ]
  },
  {
   "cell_type": "code",
   "execution_count": 4,
   "metadata": {
    "ExecuteTime": {
     "end_time": "2018-12-11T07:05:13.308563Z",
     "start_time": "2018-12-11T07:05:12.689395Z"
    }
   },
   "outputs": [
    {
     "data": {
      "text/plain": [
       "(29, 233, 36)"
      ]
     },
     "execution_count": 4,
     "metadata": {},
     "output_type": "execute_result"
    }
   ],
   "source": [
    "grid = parse(INPUT)\n",
    "mtp = (-46, )\n",
    "for x in range(1, 298):\n",
    "    for y in range(1, 298):\n",
    "        tp = sum(sum(grid[xx][yy] for yy in range(y, y + 3)) for xx in range(x, x + 3))\n",
    "        mtp = max(mtp, (tp, x, y))\n",
    "mtp"
   ]
  },
  {
   "cell_type": "markdown",
   "metadata": {},
   "source": [
    "## Part 2"
   ]
  },
  {
   "cell_type": "code",
   "execution_count": 5,
   "metadata": {
    "ExecuteTime": {
     "end_time": "2018-12-11T07:11:46.449693Z",
     "start_time": "2018-12-11T07:05:34.328472Z"
    }
   },
   "outputs": [
    {
     "data": {
      "text/plain": [
       "(156, 231, 107, 14)"
      ]
     },
     "execution_count": 5,
     "metadata": {},
     "output_type": "execute_result"
    }
   ],
   "source": [
    "grid = parse(INPUT)\n",
    "mtp = (0, )\n",
    "z = 300\n",
    "while z * z * 5 > mtp[0]:\n",
    "    for x in range(1, 302 - z):\n",
    "        if x == 1:\n",
    "            tp0 = sum(sum(grid[xx][yy] for yy in range(1, z + 1)) for xx in range(1, z + 1))\n",
    "        else:\n",
    "            tp0 += sum(grid[x + z - 1][yy] - grid[x - 1][yy] for yy in range(1, z + 1))\n",
    "        tp = tp0\n",
    "        for y in range(1, 302 - z):\n",
    "            if y > 1:\n",
    "                tp += sum(grid[xx][y + z - 1] - grid[xx][y - 1] for xx in range(x, x + z))\n",
    "            mtp = max(mtp, (tp, x, y, z))\n",
    "    z -= 1\n",
    "mtp"
   ]
  },
  {
   "cell_type": "code",
   "execution_count": null,
   "metadata": {},
   "outputs": [],
   "source": []
  }
 ],
 "metadata": {
  "kernelspec": {
   "display_name": "Python 3",
   "language": "python",
   "name": "python3"
  },
  "language_info": {
   "codemirror_mode": {
    "name": "ipython",
    "version": 3
   },
   "file_extension": ".py",
   "mimetype": "text/x-python",
   "name": "python",
   "nbconvert_exporter": "python",
   "pygments_lexer": "ipython3",
   "version": "3.5.0"
  }
 },
 "nbformat": 4,
 "nbformat_minor": 2
}
