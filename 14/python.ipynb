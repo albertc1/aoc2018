{
 "cells": [
  {
   "cell_type": "code",
   "execution_count": 9,
   "metadata": {
    "ExecuteTime": {
     "end_time": "2018-12-14T05:12:38.049009Z",
     "start_time": "2018-12-14T05:12:37.405742Z"
    }
   },
   "outputs": [
    {
     "data": {
      "text/plain": [
       "'3138510102'"
      ]
     },
     "execution_count": 9,
     "metadata": {},
     "output_type": "execute_result"
    }
   ],
   "source": [
    "from collections import defaultdict\n",
    "\n",
    "\n",
    "INPUT = 637061\n",
    "\n",
    "recipes = [3, 7]\n",
    "lim = INPUT + 10\n",
    "a, b = 0, 1\n",
    "while len(recipes) < lim:\n",
    "    s = recipes[a] + recipes[b]\n",
    "    if s > 9:\n",
    "        recipes.append(1)\n",
    "        recipes.append(s - 10)\n",
    "    else:\n",
    "        recipes.append(s)\n",
    "    a = (1 + a + recipes[a]) % len(recipes)\n",
    "    b = (1 + b + recipes[b]) % len(recipes)\n",
    "    \n",
    "    \n",
    "''.join(str(i) for i in recipes[INPUT:lim])\n",
    "        "
   ]
  },
  {
   "cell_type": "code",
   "execution_count": 18,
   "metadata": {
    "ExecuteTime": {
     "end_time": "2018-12-14T08:41:57.996786Z",
     "start_time": "2018-12-14T08:41:33.496826Z"
    }
   },
   "outputs": [
    {
     "data": {
      "text/plain": [
       "20179081"
      ]
     },
     "execution_count": 18,
     "metadata": {},
     "output_type": "execute_result"
    }
   ],
   "source": [
    "\n",
    "recipes = [3, 7]\n",
    "a, b = 0, 1\n",
    "INPUT = 637061\n",
    "num_digits = len(str(INPUT))\n",
    "tim = 10 ** (num_digits - 1)\n",
    "mary = 0\n",
    "while mary != INPUT:\n",
    "    s = recipes[a] + recipes[b]\n",
    "    if s > 9:\n",
    "        recipes.append(1)\n",
    "        mary = (mary % tim) * 10 + 1\n",
    "        s -= 10\n",
    "        if mary == INPUT:\n",
    "            break\n",
    "    mary = (mary % tim) * 10 + s\n",
    "    recipes.append(s)\n",
    "    a = (1 + a + recipes[a]) % len(recipes)\n",
    "    b = (1 + b + recipes[b]) % len(recipes)\n",
    "\n",
    "len(recipes) - num_digits\n"
   ]
  },
  {
   "cell_type": "code",
   "execution_count": null,
   "metadata": {},
   "outputs": [],
   "source": []
  }
 ],
 "metadata": {
  "kernelspec": {
   "display_name": "Python 3",
   "language": "python",
   "name": "python3"
  },
  "language_info": {
   "codemirror_mode": {
    "name": "ipython",
    "version": 3
   },
   "file_extension": ".py",
   "mimetype": "text/x-python",
   "name": "python",
   "nbconvert_exporter": "python",
   "pygments_lexer": "ipython3",
   "version": "3.5.0"
  }
 },
 "nbformat": 4,
 "nbformat_minor": 2
}
