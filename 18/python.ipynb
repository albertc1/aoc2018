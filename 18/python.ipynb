{
 "cells": [
  {
   "cell_type": "code",
   "execution_count": 60,
   "metadata": {
    "ExecuteTime": {
     "end_time": "2018-12-18T08:06:59.817362Z",
     "start_time": "2018-12-18T08:06:59.799132Z"
    }
   },
   "outputs": [],
   "source": [
    "OPEN = 0\n",
    "TREES = 1\n",
    "LUMBER = 2\n",
    "\n",
    "\n",
    "class Node:\n",
    "    state = None\n",
    "    neighbors = None\n",
    "    \n",
    "    def __init__(self, state):\n",
    "        self.state = [state, OPEN]\n",
    "        self.neighbors = []\n",
    "\n",
    "        \n",
    "class Board:\n",
    "    new = None\n",
    "    old = None\n",
    "    nodes = None\n",
    "    time = None\n",
    "    rows = None\n",
    "    cols = None\n",
    "\n",
    "    def _link(self, a, b):\n",
    "        if a and b:\n",
    "            a.neighbors.append(b)\n",
    "            b.neighbors.append(a)\n",
    "    \n",
    "    def __init__(self, filename):\n",
    "        self.nodes = nodes = {}\n",
    "        self.time = 0\n",
    "        \n",
    "        parse = {\n",
    "            '.': OPEN,\n",
    "            '|': TREES,\n",
    "            '#': LUMBER,\n",
    "        }\n",
    "        with open(filename) as infile:\n",
    "            for r, l in enumerate(infile):\n",
    "                l = l.strip()\n",
    "                for c, glyph in enumerate(l):\n",
    "                    n = Node(parse[glyph])\n",
    "                    nodes[(r, c)] = n\n",
    "                    for coords in [\n",
    "                        (r-1, c-1),\n",
    "                        (r-1, c),\n",
    "                        (r-1, c+1),\n",
    "                        (r, c-1),\n",
    "                    ]:\n",
    "                        self._link(n, nodes.get(coords))\n",
    "                    self.cols = c + 1\n",
    "                self.rows = r + 1\n",
    "        self.node_list = list(nodes.values())\n",
    "        self.seen = {}\n",
    "    \n",
    "    def tick(self, minutes=1):\n",
    "        new = self.time % 2\n",
    "        old = (self.time + 1) % 2\n",
    "        for _ in range(minutes):\n",
    "            bstate = 0\n",
    "            new, old = old, new\n",
    "            self.time += 1 \n",
    "            for n in self.node_list:\n",
    "                count = [0, 0, 0]\n",
    "                for neighbor in n.neighbors:\n",
    "                    count[neighbor.state[old]] += 1\n",
    "                if n.state[old] == OPEN:\n",
    "                    n.state[new] = TREES if count[TREES] > 2 else OPEN\n",
    "                elif n.state[old] == TREES:\n",
    "                    n.state[new] = LUMBER if count[LUMBER] > 2 else TREES\n",
    "                else:\n",
    "                    n.state[new] = LUMBER if count[LUMBER] and count[TREES] else OPEN\n",
    "                bstate = bstate * 3 + n.state[new]\n",
    "            if bstate in self.seen:\n",
    "                print(self.time)\n",
    "                print(self.seen[bstate])\n",
    "                break\n",
    "            self.seen[bstate] = (self.time, self.score())\n",
    "\n",
    "    def count(self, state):\n",
    "        now = self.time % 2\n",
    "        return sum(1 for n in self.nodes.values() if n.state[now] == state)\n",
    "    \n",
    "    def debug(self):\n",
    "        now = self.time % 2\n",
    "        unparse = '.|#'\n",
    "        for r in range(self.rows):\n",
    "            l = []\n",
    "            for c in range(self.rows):\n",
    "                l.append(unparse[self.nodes[(r, c)].state[now]])\n",
    "            print(''.join(l))\n",
    "\n",
    "    def score(self):\n",
    "        return b.count(TREES) * b.count(LUMBER)"
   ]
  },
  {
   "cell_type": "code",
   "execution_count": 61,
   "metadata": {
    "ExecuteTime": {
     "end_time": "2018-12-18T08:07:12.838576Z",
     "start_time": "2018-12-18T08:07:07.006977Z"
    }
   },
   "outputs": [
    {
     "name": "stdout",
     "output_type": "stream",
     "text": [
      "602\n",
      "(574, 204516)\n"
     ]
    },
    {
     "data": {
      "text/plain": [
       "204516"
      ]
     },
     "execution_count": 61,
     "metadata": {},
     "output_type": "execute_result"
    }
   ],
   "source": [
    "b = Board('input.txt')\n",
    "b.tick(1000)\n",
    "b.count(TREES) * b.count(LUMBER)"
   ]
  },
  {
   "cell_type": "code",
   "execution_count": 62,
   "metadata": {
    "ExecuteTime": {
     "end_time": "2018-12-18T08:08:03.005509Z",
     "start_time": "2018-12-18T08:08:03.001101Z"
    },
    "scrolled": true
   },
   "outputs": [
    {
     "data": {
      "text/plain": [
       "6"
      ]
     },
     "execution_count": 62,
     "metadata": {},
     "output_type": "execute_result"
    }
   ],
   "source": [
    "(1000000000 - 574) % 28 "
   ]
  },
  {
   "cell_type": "code",
   "execution_count": 64,
   "metadata": {
    "ExecuteTime": {
     "end_time": "2018-12-18T08:09:26.783591Z",
     "start_time": "2018-12-18T08:09:26.778926Z"
    }
   },
   "outputs": [
    {
     "data": {
      "text/plain": [
       "[213057]"
      ]
     },
     "execution_count": 64,
     "metadata": {},
     "output_type": "execute_result"
    }
   ],
   "source": [
    "[s for t, s in b.seen.values() if t == 580]"
   ]
  },
  {
   "cell_type": "code",
   "execution_count": null,
   "metadata": {},
   "outputs": [],
   "source": []
  }
 ],
 "metadata": {
  "kernelspec": {
   "display_name": "Python 3",
   "language": "python",
   "name": "python3"
  },
  "language_info": {
   "codemirror_mode": {
    "name": "ipython",
    "version": 3
   },
   "file_extension": ".py",
   "mimetype": "text/x-python",
   "name": "python",
   "nbconvert_exporter": "python",
   "pygments_lexer": "ipython3",
   "version": "3.5.0"
  }
 },
 "nbformat": 4,
 "nbformat_minor": 2
}
