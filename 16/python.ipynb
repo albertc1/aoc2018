{
 "cells": [
  {
   "cell_type": "code",
   "execution_count": 18,
   "metadata": {
    "ExecuteTime": {
     "end_time": "2018-12-16T05:30:49.529410Z",
     "start_time": "2018-12-16T05:30:49.500734Z"
    }
   },
   "outputs": [],
   "source": [
    "# Addition:\n",
    "OPS = {\n",
    "    \"addr\": lambda a, b, reg: reg[a] + reg[b],\n",
    "    \"addi\": lambda a, b, reg: reg[a] + b,\n",
    "    \"mulr\": lambda a, b, reg: reg[a] * reg[b],\n",
    "    \"muli\": lambda a, b, reg: reg[a] * b,\n",
    "    \"banr\": lambda a, b, reg: reg[a] & reg[b],\n",
    "    \"bani\": lambda a, b, reg: reg[a] & b,\n",
    "    \"borr\": lambda a, b, reg: reg[a] | reg[b],\n",
    "    \"bori\": lambda a, b, reg: reg[a] | b,\n",
    "    \"setr\": lambda a, b, reg: reg[a],\n",
    "    \"seti\": lambda a, b, reg: a,\n",
    "    \"gtir\": lambda a, b, reg: 1 if a > reg[b] else 0,\n",
    "    \"gtri\": lambda a, b, reg: 1 if reg[a] > b else 0,\n",
    "    \"gtrr\": lambda a, b, reg: 1 if reg[a] > reg[b] else 0,\n",
    "    \"eqir\": lambda a, b, reg: 1 if a == reg[b] else 0,\n",
    "    \"eqri\": lambda a, b, reg: 1 if reg[a] == b else 0,\n",
    "    \"eqrr\": lambda a, b, reg: 1 if reg[a] == reg[b] else 0,\n",
    "}\n",
    "\n",
    "\n",
    "# addr (add register) stores into register C the result of adding register A and register B.\n",
    "# addi (add immediate) stores into register C the result of adding register A and value B.\n",
    "    \n",
    "# Multiplication:\n",
    "\n",
    "# mulr (multiply register) stores into register C the result of multiplying register A and register B.\n",
    "# muli (multiply immediate) stores into register C the result of multiplying register A and value B.\n",
    "  # Bitwise AND:\n",
    "\n",
    "# banr (bitwise AND register) stores into register C the result of the bitwise AND of register A and register B.\n",
    "# bani (bitwise AND immediate) stores into register C the result of the bitwise AND of register A and value B.\n",
    "# Bitwise OR:\n",
    "\n",
    "# borr (bitwise OR register) stores into register C the result of the bitwise OR of register A and register B.\n",
    "# bori (bitwise OR immediate) stores into register C the result of the bitwise OR of register A and value B.\n",
    "# Assignment:\n",
    "\n",
    "# setr (set register) copies the contents of register A into register C. (Input B is ignored.)\n",
    "# seti (set immediate) stores value A into register C. (Input B is ignored.)\n",
    "# Greater-than testing:\n",
    "\n",
    "# gtir (greater-than immediate/register) sets register C to 1 if value A is greater than register B. Otherwise, register C is set to 0.\n",
    "# gtri (greater-than register/immediate) sets register C to 1 if register A is greater than value B. Otherwise, register C is set to 0.\n",
    "# gtrr (greater-than register/register) sets register C to 1 if register A is greater than register B. Otherwise, register C is set to 0.\n",
    "# Equality testing:\n",
    "\n",
    "# eqir (equal immediate/register) sets register C to 1 if value A is equal to register B. Otherwise, register C is set to 0.\n",
    "# eqri (equal register/immediate) sets register C to 1 if register A is equal to value B. Otherwise, register C is set to 0.\n",
    "# eqrr (equal register/register) sets register C to 1 if register A is equal to register B. Otherwise, register C is set to 0."
   ]
  },
  {
   "cell_type": "code",
   "execution_count": 36,
   "metadata": {
    "ExecuteTime": {
     "end_time": "2018-12-16T05:40:39.262895Z",
     "start_time": "2018-12-16T05:40:39.257610Z"
    }
   },
   "outputs": [],
   "source": [
    "def valid_ops(ins, before, after):\n",
    "    opcode, a, b, c = ins\n",
    "    for i, (be, af,) in enumerate(zip(before, after)):\n",
    "        if be != af and i != c:\n",
    "            return []\n",
    "    \n",
    "    valid = []\n",
    "    for name, op in OPS.items():\n",
    "        if after[c] == op(a, b, before):\n",
    "            valid.append(name)\n",
    "    return valid\n",
    "  \n",
    "import re\n",
    "def parse(s):\n",
    "    return [int(c) for c in re.sub('[^0-9 ]','', s).split()]"
   ]
  },
  {
   "cell_type": "code",
   "execution_count": 22,
   "metadata": {
    "ExecuteTime": {
     "end_time": "2018-12-16T05:31:16.102369Z",
     "start_time": "2018-12-16T05:31:16.096503Z"
    }
   },
   "outputs": [
    {
     "data": {
      "text/plain": [
       "['mulr', 'addi', 'seti']"
      ]
     },
     "execution_count": 22,
     "metadata": {},
     "output_type": "execute_result"
    }
   ],
   "source": [
    "# Before: [3, 2, 1, 1]\n",
    "# 9 2 1 2\n",
    "# After:  [3, 2, 2, 1]\n",
    "valid_ops([9,2,1,2], [3, 2, 1, 1], [3, 2, 2, 1])"
   ]
  },
  {
   "cell_type": "code",
   "execution_count": 37,
   "metadata": {
    "ExecuteTime": {
     "end_time": "2018-12-16T05:40:41.724023Z",
     "start_time": "2018-12-16T05:40:41.686825Z"
    }
   },
   "outputs": [
    {
     "name": "stdout",
     "output_type": "stream",
     "text": [
      "521\n"
     ]
    }
   ],
   "source": [
    "with open(\"input_a.txt\") as infile:\n",
    "    l = infile.readline()\n",
    "    line_count = 0\n",
    "    three = 0\n",
    "    while l != '':\n",
    "        before = parse(l)\n",
    "        instr = parse(infile.readline())\n",
    "        after = parse(infile.readline())\n",
    "        \n",
    "        ops = valid_ops(instr, before, after)\n",
    "        if len(ops) >= 3:\n",
    "            three += 1\n",
    "        l = infile.readline()\n",
    "        l = infile.readline()\n",
    "    print(three)\n",
    "        \n"
   ]
  },
  {
   "cell_type": "code",
   "execution_count": 46,
   "metadata": {
    "ExecuteTime": {
     "end_time": "2018-12-16T05:52:17.669898Z",
     "start_time": "2018-12-16T05:52:17.629732Z"
    }
   },
   "outputs": [],
   "source": [
    "possible = [\n",
    "    set(OPS.keys())\n",
    "    for _ in range(16)\n",
    "]\n",
    "with open(\"input_a.txt\") as infile:\n",
    "    l = infile.readline()\n",
    "    line_count = 0\n",
    "    three = 0\n",
    "    while l != '':\n",
    "        before = parse(l)\n",
    "        instr = parse(infile.readline())\n",
    "        after = parse(infile.readline())\n",
    "        \n",
    "        ops = valid_ops(instr, before, after)\n",
    "        possible[instr[0]] &= set(ops)\n",
    "        l = infile.readline()\n",
    "        l = infile.readline()\n",
    "        \n",
    "for _ in range(16):\n",
    "    for opset in possible:\n",
    "        if len(opset) == 1:\n",
    "            op = next(iter(opset))\n",
    "            for ops in possible:\n",
    "                if len(ops) > 1:\n",
    "                    try:\n",
    "                        ops.remove(op)\n",
    "                    except KeyError:\n",
    "                        pass\n",
    "    "
   ]
  },
  {
   "cell_type": "code",
   "execution_count": 48,
   "metadata": {
    "ExecuteTime": {
     "end_time": "2018-12-16T05:53:53.729617Z",
     "start_time": "2018-12-16T05:53:53.725644Z"
    }
   },
   "outputs": [],
   "source": [
    "INT_OPS = [\n",
    "    OPS[list(ops)[0]]\n",
    "    for ops in possible\n",
    "]"
   ]
  },
  {
   "cell_type": "code",
   "execution_count": 55,
   "metadata": {
    "ExecuteTime": {
     "end_time": "2018-12-16T05:58:35.826873Z",
     "start_time": "2018-12-16T05:58:35.816616Z"
    }
   },
   "outputs": [],
   "source": [
    "reg = [0,0,0,0]\n",
    "\n",
    "with open(\"input_b.txt\") as infile:\n",
    "    for l in infile:\n",
    "        op, a, b, c = parse(l)\n",
    "        reg[c] = INT_OPS[op](a, b, reg) \n"
   ]
  },
  {
   "cell_type": "code",
   "execution_count": 56,
   "metadata": {
    "ExecuteTime": {
     "end_time": "2018-12-16T05:58:37.806822Z",
     "start_time": "2018-12-16T05:58:37.801705Z"
    }
   },
   "outputs": [
    {
     "data": {
      "text/plain": [
       "[594, 3, 4, 594]"
      ]
     },
     "execution_count": 56,
     "metadata": {},
     "output_type": "execute_result"
    }
   ],
   "source": [
    "reg"
   ]
  },
  {
   "cell_type": "code",
   "execution_count": null,
   "metadata": {},
   "outputs": [],
   "source": []
  }
 ],
 "metadata": {
  "kernelspec": {
   "display_name": "Python 3",
   "language": "python",
   "name": "python3"
  },
  "language_info": {
   "codemirror_mode": {
    "name": "ipython",
    "version": 3
   },
   "file_extension": ".py",
   "mimetype": "text/x-python",
   "name": "python",
   "nbconvert_exporter": "python",
   "pygments_lexer": "ipython3",
   "version": "3.5.0"
  }
 },
 "nbformat": 4,
 "nbformat_minor": 2
}
