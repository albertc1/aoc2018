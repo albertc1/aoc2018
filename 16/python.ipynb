{
 "cells": [
  {
   "cell_type": "code",
   "execution_count": 57,
   "metadata": {
    "ExecuteTime": {
     "end_time": "2018-12-16T07:59:49.225626Z",
     "start_time": "2018-12-16T07:59:49.201050Z"
    }
   },
   "outputs": [],
   "source": [
    "OPS = {\n",
    "    \"addr\": lambda a, b, reg: reg[a] + reg[b],\n",
    "    \"addi\": lambda a, b, reg: reg[a] + b,\n",
    "    \"mulr\": lambda a, b, reg: reg[a] * reg[b],\n",
    "    \"muli\": lambda a, b, reg: reg[a] * b,\n",
    "    \"banr\": lambda a, b, reg: reg[a] & reg[b],\n",
    "    \"bani\": lambda a, b, reg: reg[a] & b,\n",
    "    \"borr\": lambda a, b, reg: reg[a] | reg[b],\n",
    "    \"bori\": lambda a, b, reg: reg[a] | b,\n",
    "    \"setr\": lambda a, b, reg: reg[a],\n",
    "    \"seti\": lambda a, b, reg: a,\n",
    "    \"gtir\": lambda a, b, reg: 1 if a > reg[b] else 0,\n",
    "    \"gtri\": lambda a, b, reg: 1 if reg[a] > b else 0,\n",
    "    \"gtrr\": lambda a, b, reg: 1 if reg[a] > reg[b] else 0,\n",
    "    \"eqir\": lambda a, b, reg: 1 if a == reg[b] else 0,\n",
    "    \"eqri\": lambda a, b, reg: 1 if reg[a] == b else 0,\n",
    "    \"eqrr\": lambda a, b, reg: 1 if reg[a] == reg[b] else 0,\n",
    "}\n"
   ]
  },
  {
   "cell_type": "code",
   "execution_count": 58,
   "metadata": {
    "ExecuteTime": {
     "end_time": "2018-12-16T07:59:49.965934Z",
     "start_time": "2018-12-16T07:59:49.960579Z"
    }
   },
   "outputs": [],
   "source": [
    "def valid_ops(ins, before, after):\n",
    "    opcode, a, b, c = ins\n",
    "    for i, (be, af,) in enumerate(zip(before, after)):\n",
    "        if be != af and i != c:\n",
    "            return []\n",
    "    \n",
    "    valid = []\n",
    "    for name, op in OPS.items():\n",
    "        if after[c] == op(a, b, before):\n",
    "            valid.append(name)\n",
    "    return valid\n",
    "  \n",
    "import re\n",
    "def parse(s):\n",
    "    return [int(c) for c in re.sub('[^0-9 ]','', s).split()]"
   ]
  },
  {
   "cell_type": "code",
   "execution_count": 59,
   "metadata": {
    "ExecuteTime": {
     "end_time": "2018-12-16T07:59:50.552928Z",
     "start_time": "2018-12-16T07:59:50.513007Z"
    }
   },
   "outputs": [
    {
     "name": "stdout",
     "output_type": "stream",
     "text": [
      "521\n"
     ]
    }
   ],
   "source": [
    "with open(\"input_a.txt\") as infile:\n",
    "    l = infile.readline()\n",
    "    three = 0\n",
    "    while l != '':\n",
    "        before = parse(l)\n",
    "        instr = parse(infile.readline())\n",
    "        after = parse(infile.readline())\n",
    "        \n",
    "        ops = valid_ops(instr, before, after)\n",
    "        if len(ops) >= 3:\n",
    "            three += 1\n",
    "        l = infile.readline()\n",
    "        l = infile.readline()\n",
    "    print(three)\n"
   ]
  },
  {
   "cell_type": "code",
   "execution_count": 60,
   "metadata": {
    "ExecuteTime": {
     "end_time": "2018-12-16T07:59:51.286646Z",
     "start_time": "2018-12-16T07:59:51.236794Z"
    }
   },
   "outputs": [],
   "source": [
    "possible = [\n",
    "    set(OPS.keys())\n",
    "    for _ in range(16)\n",
    "]\n",
    "with open(\"input_a.txt\") as infile:\n",
    "    l = infile.readline()\n",
    "    while l != '':\n",
    "        before = parse(l)\n",
    "        instr = parse(infile.readline())\n",
    "        after = parse(infile.readline())\n",
    "        \n",
    "        ops = valid_ops(instr, before, after)\n",
    "        possible[instr[0]] &= set(ops)\n",
    "        l = infile.readline()\n",
    "        l = infile.readline()\n",
    "        \n",
    "for _ in range(16):\n",
    "    for opset in possible:\n",
    "        if len(opset) > 1:\n",
    "            continue\n",
    "        op = next(iter(opset))\n",
    "        for ops in possible:\n",
    "            if op in ops and len(ops) > 1:\n",
    "                ops.remove(op)\n",
    "\n",
    "INT_OPS = [\n",
    "    OPS[list(ops)[0]]\n",
    "    for ops in possible\n",
    "]"
   ]
  },
  {
   "cell_type": "code",
   "execution_count": 61,
   "metadata": {
    "ExecuteTime": {
     "end_time": "2018-12-16T07:59:51.936216Z",
     "start_time": "2018-12-16T07:59:51.917865Z"
    }
   },
   "outputs": [
    {
     "data": {
      "text/plain": [
       "[594, 3, 4, 594]"
      ]
     },
     "execution_count": 61,
     "metadata": {},
     "output_type": "execute_result"
    }
   ],
   "source": [
    "reg = [0,0,0,0]\n",
    "\n",
    "with open(\"input_b.txt\") as infile:\n",
    "    for l in infile:\n",
    "        op, a, b, c = parse(l)\n",
    "        reg[c] = INT_OPS[op](a, b, reg)\n",
    "\n",
    "reg"
   ]
  },
  {
   "cell_type": "code",
   "execution_count": null,
   "metadata": {},
   "outputs": [],
   "source": []
  }
 ],
 "metadata": {
  "kernelspec": {
   "display_name": "Python 3",
   "language": "python",
   "name": "python3"
  },
  "language_info": {
   "codemirror_mode": {
    "name": "ipython",
    "version": 3
   },
   "file_extension": ".py",
   "mimetype": "text/x-python",
   "name": "python",
   "nbconvert_exporter": "python",
   "pygments_lexer": "ipython3",
   "version": "3.5.0"
  }
 },
 "nbformat": 4,
 "nbformat_minor": 2
}
