{
 "cells": [
  {
   "cell_type": "markdown",
   "metadata": {},
   "source": [
    "# Part 1"
   ]
  },
  {
   "cell_type": "code",
   "execution_count": null,
   "metadata": {},
   "outputs": [],
   "source": [
    "total = 0\n",
    "with open('1.txt') as infile:\n",
    "    for l in infile:\n",
    "        l = l.strip()\n",
    "        v = int(l[1:])\n",
    "        if l[0] == '-':\n",
    "            total -= v\n",
    "        else:\n",
    "            total += v\n",
    "total"
   ]
  },
  {
   "cell_type": "markdown",
   "metadata": {},
   "source": [
    "# Part 2"
   ]
  },
  {
   "cell_type": "code",
   "execution_count": 5,
   "metadata": {},
   "outputs": [
    {
     "data": {
      "text/plain": [
       "66932"
      ]
     },
     "execution_count": 5,
     "metadata": {},
     "output_type": "execute_result"
    }
   ],
   "source": [
    "deltas = []\n",
    "with open('input.txt') as infile:\n",
    "    for l in infile:\n",
    "        l = l.strip()\n",
    "        v = int(l[1:])\n",
    "        if l[0] == '-':\n",
    "            v = 0 - v\n",
    "        deltas.append(v)\n",
    "\n",
    "def loop(vals):\n",
    "    while True:\n",
    "        for v in vals:\n",
    "            yield v\n",
    "        \n",
    "seen = {0}\n",
    "total = 0\n",
    "for v in loop(deltas):\n",
    "    total += v\n",
    "    if total in seen:\n",
    "        break\n",
    "    seen.add(total)\n",
    "total"
   ]
  },
  {
   "cell_type": "code",
   "execution_count": null,
   "metadata": {},
   "outputs": [],
   "source": []
  }
 ],
 "metadata": {
  "kernelspec": {
   "display_name": "Python 3",
   "language": "python",
   "name": "python3"
  },
  "language_info": {
   "codemirror_mode": {
    "name": "ipython",
    "version": 3
   },
   "file_extension": ".py",
   "mimetype": "text/x-python",
   "name": "python",
   "nbconvert_exporter": "python",
   "pygments_lexer": "ipython3",
   "version": "3.5.0"
  }
 },
 "nbformat": 4,
 "nbformat_minor": 2
}
