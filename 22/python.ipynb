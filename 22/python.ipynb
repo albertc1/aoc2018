{
 "cells": [
  {
   "cell_type": "code",
   "execution_count": 1,
   "metadata": {
    "ExecuteTime": {
     "end_time": "2018-12-22T06:37:29.654610Z",
     "start_time": "2018-12-22T06:37:29.633374Z"
    }
   },
   "outputs": [],
   "source": [
    "DEPTH = 3066\n",
    "TARGET_X = 13\n",
    "TARGET_Y = 726\n",
    "\n",
    "def erosion(gi):\n",
    "    return (DEPTH + gi) % 20183\n",
    "\n",
    "gi = [[None] * (TARGET_Y + 1) for _ in range(TARGET_X + 1)]\n",
    "el = [[None] * (TARGET_Y + 1) for _ in range(TARGET_X + 1)]\n",
    "for x in range(TARGET_X + 1):\n",
    "    g = gi[x][0] = x * 16807\n",
    "    el[x][0] = erosion(g)\n",
    "for y in range(1, TARGET_Y + 1):\n",
    "    g = gi[0][y] = y * 48271 \n",
    "    el[0][y] = erosion(g)\n",
    "for x in range(1, TARGET_X + 1):\n",
    "    for y in range(1, TARGET_Y + 1):\n",
    "        g = gi[x][y] = el[x-1][y] * el[x][y-1]\n",
    "        el[x][y] = erosion(g)\n",
    "gi[TARGET_X][TARGET_Y] = 0\n",
    "el[TARGET_X][TARGET_Y] = erosion(0)\n",
    "\n"
   ]
  },
  {
   "cell_type": "code",
   "execution_count": 2,
   "metadata": {
    "ExecuteTime": {
     "end_time": "2018-12-22T06:37:29.673993Z",
     "start_time": "2018-12-22T06:37:29.656796Z"
    }
   },
   "outputs": [
    {
     "data": {
      "text/plain": [
       "10115"
      ]
     },
     "execution_count": 2,
     "metadata": {},
     "output_type": "execute_result"
    }
   ],
   "source": [
    "sum(\n",
    "    sum(\n",
    "        el[x][y] % 3\n",
    "        for y in range(TARGET_Y + 1)\n",
    "    )\n",
    "    for x in range(TARGET_X + 1)\n",
    ")"
   ]
  },
  {
   "cell_type": "code",
   "execution_count": 3,
   "metadata": {
    "ExecuteTime": {
     "end_time": "2018-12-22T06:37:40.881620Z",
     "start_time": "2018-12-22T06:37:29.676595Z"
    }
   },
   "outputs": [
    {
     "data": {
      "text/plain": [
       "990"
      ]
     },
     "execution_count": 3,
     "metadata": {},
     "output_type": "execute_result"
    }
   ],
   "source": [
    "from heapq import heappush, heappop\n",
    "\n",
    "DEPTH = 3066\n",
    "TARGET_X = 13\n",
    "TARGET_Y = 726\n",
    "\n",
    "# DEPTH = 510\n",
    "# TARGET_X = 10\n",
    "# TARGET_Y = 10\n",
    "\n",
    "def erosion(gi):\n",
    "    return (DEPTH + gi) % 20183\n",
    "\n",
    "ROCKY = NEITHER = 0\n",
    "WET = TORCH = 1\n",
    "NARROW = CLIMB = 2\n",
    "\n",
    "cave = {\n",
    "    (0,0): (0, erosion(0), erosion(0) % 3),\n",
    "    (TARGET_X, TARGET_Y): (0, erosion(0), erosion(0) % 3),\n",
    "}\n",
    "\n",
    "seen = set()\n",
    "init_state = (0, 0, TORCH)\n",
    "target_state = (TARGET_X, TARGET_Y, TORCH)\n",
    "seen.add(init_state)\n",
    "hq = [(0, init_state)]\n",
    "\n",
    "reequip = {\n",
    "    (ROCKY, TORCH): CLIMB,\n",
    "    (ROCKY, CLIMB): TORCH,\n",
    "    (WET, NEITHER): CLIMB,\n",
    "    (WET, CLIMB): NEITHER,\n",
    "    (NARROW, TORCH): NEITHER,\n",
    "    (NARROW, NEITHER): TORCH,\n",
    "}\n",
    "\n",
    "def get_cave(x, y):\n",
    "    if (x, y) not in cave:\n",
    "        if y == 0:\n",
    "            gi = x * 16807\n",
    "        elif x == 0:\n",
    "            gi = y * 48271\n",
    "        else:\n",
    "            gi = get_cave(x-1, y)[1] * get_cave(x, y-1)[1]\n",
    "        el = erosion(gi)        \n",
    "        cave[(x, y)] = (gi, el, el % 3)\n",
    "    return cave[(x, y)]\n",
    "\n",
    "while hq[0][1] != target_state:\n",
    "    t, (x, y, tool) = heappop(hq)\n",
    "    for x1, y1 in [(x+1, y), (x-1, y), (x, y-1), (x, y+1)]:\n",
    "        if x1 < 0 or y1 < 0:\n",
    "            continue\n",
    "        new_state = (x1, y1, tool)\n",
    "        if new_state in seen:\n",
    "            continue\n",
    "        if tool == get_cave(x1, y1)[2]:\n",
    "            # can't go there with current tool\n",
    "            continue\n",
    "        seen.add(new_state)\n",
    "        heappush(hq, (t+1, new_state))\n",
    "    new_tool = reequip[get_cave(x, y)[2], tool]\n",
    "    new_state = (x, y, new_tool)\n",
    "    if new_state not in seen:\n",
    "        seen.add(new_tool)\n",
    "        heappush(hq, (t+7, new_state))\n",
    "    \n",
    "hq[0][0]"
   ]
  }
 ],
 "metadata": {
  "kernelspec": {
   "display_name": "Python 3",
   "language": "python",
   "name": "python3"
  },
  "language_info": {
   "codemirror_mode": {
    "name": "ipython",
    "version": 3
   },
   "file_extension": ".py",
   "mimetype": "text/x-python",
   "name": "python",
   "nbconvert_exporter": "python",
   "pygments_lexer": "ipython3",
   "version": "3.5.0"
  }
 },
 "nbformat": 4,
 "nbformat_minor": 2
}
