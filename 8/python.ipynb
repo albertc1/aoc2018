{
 "cells": [
  {
   "cell_type": "code",
   "execution_count": 7,
   "metadata": {},
   "outputs": [],
   "source": [
    "with open('input.txt') as infile:\n",
    "    for l in infile:\n",
    "        l = l.strip()\n"
   ]
  },
  {
   "cell_type": "code",
   "execution_count": 27,
   "metadata": {},
   "outputs": [],
   "source": [
    "from collections import namedtuple\n",
    "Node = namedtuple('node', ['children', 'metadata'])\n",
    "data = [int(x) for x in l.split()]\n",
    "nodes = []\n",
    "def parse_node(d):\n",
    "    nc = d.pop(0)\n",
    "    nm = d.pop(0)\n",
    "    n = Node([], [])\n",
    "    nodes.append(n)\n",
    "    for _ in range(nc):\n",
    "        n.children.append(parse_node(d))\n",
    "    for _ in range(nm):\n",
    "        n.metadata.append(d.pop(0))\n",
    "    return n\n"
   ]
  },
  {
   "cell_type": "code",
   "execution_count": 28,
   "metadata": {},
   "outputs": [
    {
     "data": {
      "text/plain": [
       "41555"
      ]
     },
     "execution_count": 28,
     "metadata": {},
     "output_type": "execute_result"
    }
   ],
   "source": [
    "parse_node(data)\n",
    "sum(sum(n.metadata) for n in nodes)"
   ]
  },
  {
   "cell_type": "code",
   "execution_count": 47,
   "metadata": {},
   "outputs": [],
   "source": [
    "def val(n):\n",
    "    if not n.children:\n",
    "        return sum(n.metadata)\n",
    "    return sum(val(n.children[x - 1]) for x in n.metadata if 0 < x <= len(n.children))"
   ]
  },
  {
   "cell_type": "code",
   "execution_count": 48,
   "metadata": {},
   "outputs": [
    {
     "data": {
      "text/plain": [
       "16653"
      ]
     },
     "execution_count": 48,
     "metadata": {},
     "output_type": "execute_result"
    }
   ],
   "source": [
    "val(nodes[0])"
   ]
  },
  {
   "cell_type": "code",
   "execution_count": null,
   "metadata": {},
   "outputs": [],
   "source": []
  }
 ],
 "metadata": {
  "kernelspec": {
   "display_name": "Python 3",
   "language": "python",
   "name": "python3"
  },
  "language_info": {
   "codemirror_mode": {
    "name": "ipython",
    "version": 3
   },
   "file_extension": ".py",
   "mimetype": "text/x-python",
   "name": "python",
   "nbconvert_exporter": "python",
   "pygments_lexer": "ipython3",
   "version": "3.5.0"
  }
 },
 "nbformat": 4,
 "nbformat_minor": 2
}
