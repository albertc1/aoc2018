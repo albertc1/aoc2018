{
 "cells": [
  {
   "cell_type": "markdown",
   "metadata": {},
   "source": [
    "## Parse input"
   ]
  },
  {
   "cell_type": "code",
   "execution_count": 3,
   "metadata": {},
   "outputs": [],
   "source": [
    "from collections import defaultdict, namedtuple\n",
    "\n",
    "Coord = namedtuple('Coord', ['x', 'y'])\n",
    "pts = []\n",
    "with open('input.txt') as infile:\n",
    "    for l in infile:\n",
    "        x, y = l.strip().split(', ')\n",
    "        pts.append(Coord(int(x), int(y)))\n",
    "\n",
    "min_x = min([c.x for c in pts])\n",
    "min_y = min([c.y for c in pts])\n",
    "max_x = max([c.x for c in pts])\n",
    "max_y = max([c.y for c in pts])\n",
    "\n",
    "coords = [\n",
    "    Coord(c.x - min_x, c.y - min_y)\n",
    "    for c in pts\n",
    "]\n",
    "w = max_x - min_x + 1\n",
    "h = max_y - min_y + 1"
   ]
  },
  {
   "cell_type": "markdown",
   "metadata": {},
   "source": [
    "## Part 1 - breadth-first-search"
   ]
  },
  {
   "cell_type": "code",
   "execution_count": 65,
   "metadata": {},
   "outputs": [
    {
     "data": {
      "text/plain": [
       "(4398, 42)"
      ]
     },
     "execution_count": 65,
     "metadata": {},
     "output_type": "execute_result"
    }
   ],
   "source": [
    "grid = [[None] * h for _ in range(w)]\n",
    "\n",
    "size = defaultdict(int)\n",
    "disqualified = {-1}\n",
    "fringe = {   \n",
    "    coord: {owner}\n",
    "    for owner, coord in enumerate(coords)\n",
    "}\n",
    "while fringe:\n",
    "    newly_claimed = []\n",
    "    for (x, y), claims in fringe.items():\n",
    "        assert(grid[x][y] is None)\n",
    "        owner = claims.pop() if len(claims) == 1 else -1\n",
    "        grid[x][y] = owner\n",
    "        size[owner] += 1\n",
    "        newly_claimed.append((x, y, owner))\n",
    "\n",
    "    fringe = defaultdict(set)\n",
    "    for x, y, owner in newly_claimed:\n",
    "        for dx, dy in [(-1, 0), (1, 0), (0, -1), (0, 1)]:\n",
    "            new_x, new_y = x + dx, y + dy\n",
    "            if not ((0 <= new_x < w) and (0 <= new_y < h)):\n",
    "                disqualified.add(owner)\n",
    "                continue\n",
    "            if grid[new_x][new_y] is not None:\n",
    "                continue\n",
    "            fringe[(new_x, new_y)].add(owner)\n",
    "\n",
    "max([(s, owner) for owner, s in size.items() if owner not in infinite])\n"
   ]
  },
  {
   "cell_type": "code",
   "execution_count": null,
   "metadata": {},
   "outputs": [],
   "source": [
    "# Print out grid to help debug\n",
    "for column in grid:\n",
    "    vals = []\n",
    "    for n in column:\n",
    "        vals.append(\"%02d\" % n)\n",
    "    print(','.join(vals))"
   ]
  },
  {
   "cell_type": "markdown",
   "metadata": {},
   "source": [
    "## Part 1 - brute force"
   ]
  },
  {
   "cell_type": "code",
   "execution_count": 67,
   "metadata": {},
   "outputs": [],
   "source": [
    "size = defaultdict(int)\n",
    "disqualified = {-1}\n",
    "for x in range(w):\n",
    "    for y in range(h):\n",
    "        owner = None\n",
    "        min_dist = h + w + 1\n",
    "        for i, c in enumerate(coords):\n",
    "            dist = abs(x - c.x) + abs(y - c.y)\n",
    "            if dist < min_dist:\n",
    "                min_dist = dist\n",
    "                owner = i\n",
    "            elif dist == min_dist:\n",
    "                owner = -1\n",
    "        size[owner] += 1\n",
    "        if x in {0, w - 1} or y in {0, h - 1}:\n",
    "            disqualified.add(owner)"
   ]
  },
  {
   "cell_type": "code",
   "execution_count": 71,
   "metadata": {},
   "outputs": [
    {
     "data": {
      "text/plain": [
       "(4398, 42)"
      ]
     },
     "execution_count": 71,
     "metadata": {},
     "output_type": "execute_result"
    }
   ],
   "source": [
    "max([(s,owner) for owner, s in size.items() if owner not in disqualified])"
   ]
  },
  {
   "cell_type": "markdown",
   "metadata": {},
   "source": [
    "## Part 2"
   ]
  },
  {
   "cell_type": "code",
   "execution_count": 12,
   "metadata": {},
   "outputs": [
    {
     "data": {
      "text/plain": [
       "39560"
      ]
     },
     "execution_count": 12,
     "metadata": {},
     "output_type": "execute_result"
    }
   ],
   "source": [
    "MAXD = 10000\n",
    "\n",
    "total_nodes = len(coords)\n",
    "nx = defaultdict(int)  # number of nodes in column x\n",
    "ny = defaultdict(int)  # number of nodes in row y\n",
    "for x, y in coords:\n",
    "    nx[x] += 1\n",
    "    ny[y] += 1\n",
    "\n",
    "area = 0\n",
    "left_nodes = 0\n",
    "dy0 = sum(y for _, y in coords)  # total vertical-distance when y == 0\n",
    "for x in range(w):\n",
    "    if x == 0:\n",
    "        dx = sum(x for x, _ in coords)\n",
    "    else:\n",
    "        # moving right 1 space increases distance by 1 for each node to the left\n",
    "        # and decreases distance by 1 for each node to your right \n",
    "        dx += left_nodes - (total_nodes - left_nodes)\n",
    "    left_nodes += nx.get(x, 0)\n",
    "    dy_lim = MAXD - dx\n",
    "    if dy_lim <= 0:\n",
    "        continue\n",
    "    \n",
    "    dy = dy0\n",
    "    above_nodes = 0\n",
    "    for y in range(h):\n",
    "        if dy < dy_lim:\n",
    "            area += 1\n",
    "        # moving down 1 space increases distance by 1 for each node above\n",
    "        # and decreases distance by 1 for each node below\n",
    "        above_nodes += ny.get(y, 0)\n",
    "        dy += above_nodes - (total_nodes - above_nodes)\n",
    "\n",
    "area"
   ]
  },
  {
   "cell_type": "markdown",
   "metadata": {},
   "source": [
    "## Maybe slightly more readable solution to Part 2"
   ]
  },
  {
   "cell_type": "code",
   "execution_count": 10,
   "metadata": {},
   "outputs": [
    {
     "data": {
      "text/plain": [
       "39560"
      ]
     },
     "execution_count": 10,
     "metadata": {},
     "output_type": "execute_result"
    }
   ],
   "source": [
    "MAXD = 10000\n",
    "\n",
    "total_nodes = len(coords)\n",
    "nx = defaultdict(int)  # number of nodes in column x\n",
    "ny = defaultdict(int)  # number of nodes in row y\n",
    "for x, y in coords:\n",
    "    nx[x] += 1\n",
    "    ny[y] += 1\n",
    "\n",
    "dx = [None] * w  # total horizontal-distance for a given x\n",
    "dy = [None] * h  # total vertical-distance for a given y\n",
    "dx[0] = sum([x for x, _ in coords])\n",
    "dy[0] = sum([y for _, y in coords])\n",
    "\n",
    "nodes_passed = nx.get(0,0)\n",
    "for x in range(1, w):\n",
    "    dx[x] = dx[x - 1] + nodes_passed - (total_nodes - nodes_passed)\n",
    "    nodes_passed += nx.get(x, 0)\n",
    "nodes_passed = ny.get(0,0)\n",
    "for y in range(1, h):\n",
    "    dy[y] = dy[y - 1] + nodes_passed - (total_nodes - nodes_passed)\n",
    "    nodes_passed += ny.get(y, 0)\n",
    "\n",
    "area = 0\n",
    "for x in range(w):\n",
    "    dy_lim = MAXD - dx[x]\n",
    "    if dy_lim <= 0:\n",
    "        continue\n",
    "    area += sum(1 for dist in dy if dist < dy_lim)\n",
    "\n",
    "area"
   ]
  },
  {
   "cell_type": "code",
   "execution_count": null,
   "metadata": {},
   "outputs": [],
   "source": []
  }
 ],
 "metadata": {
  "kernelspec": {
   "display_name": "Python 3",
   "language": "python",
   "name": "python3"
  },
  "language_info": {
   "codemirror_mode": {
    "name": "ipython",
    "version": 3
   },
   "file_extension": ".py",
   "mimetype": "text/x-python",
   "name": "python",
   "nbconvert_exporter": "python",
   "pygments_lexer": "ipython3",
   "version": "3.5.0"
  }
 },
 "nbformat": 4,
 "nbformat_minor": 2
}
