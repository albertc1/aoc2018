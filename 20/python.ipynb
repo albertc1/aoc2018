{
 "cells": [
  {
   "cell_type": "code",
   "execution_count": 37,
   "metadata": {
    "ExecuteTime": {
     "end_time": "2018-12-21T14:00:34.631528Z",
     "start_time": "2018-12-21T14:00:34.615057Z"
    }
   },
   "outputs": [],
   "source": [
    "from collections import deque, namedtuple\n",
    "\n",
    "\n",
    "DIRS = {\n",
    "    'N': (0, 1),\n",
    "    'S': (0, -1),\n",
    "    'E': (1, 0),\n",
    "    'W': (-1, 0),\n",
    "}\n",
    "\n",
    "\n",
    "class Node:\n",
    "    x = None\n",
    "    y = None\n",
    "    neighbors = None\n",
    "    grid = None\n",
    "\n",
    "    def __init__(self, x, y, grid):\n",
    "        self.x = x\n",
    "        self.y = y\n",
    "        self.grid = grid\n",
    "        grid[(x, y)] = self\n",
    "        self.neighbors = {}\n",
    "        \n",
    "    def move(self, d):\n",
    "        if d in self.neighbors:\n",
    "            return self.neighbors[d]\n",
    "        coords = (self.x + d[0], self.y + d[1])\n",
    "        if coords not in self.grid:\n",
    "            Node(coords[0], coords[1], self.grid)\n",
    "        node = self.grid[coords]\n",
    "        self.neighbors[d] = node\n",
    "        node.neighbors[(-d[0], -d[1])] = self        \n",
    "        return node\n",
    "\n",
    "        \n",
    "#^ENNWSWW(NEWS|)SSSEEN(WNSE|)EE(SWEN|)NNN$\n",
    "class Mapper:\n",
    "    root = None\n",
    "    grid = None\n",
    "\n",
    "    def __init__(self, filename=None, text=None):\n",
    "        self.grid = {}\n",
    "        if not text:\n",
    "            with open(filename) as infile:\n",
    "                text = infile.readline().strip()\n",
    "        text = list(text[:0:-1])\n",
    "        self.root = Node(0, 0, self.grid)\n",
    "        self.parse(text, [self.root])\n",
    "\n",
    "    def parse(self, text, fringe):\n",
    "        while text:\n",
    "            c = text[-1]\n",
    "            if c in ')$|':\n",
    "                return fringe\n",
    "            elif c in DIRS:\n",
    "                fringe = [n.move(DIRS[c]) for n in fringe]\n",
    "                text.pop()\n",
    "                continue\n",
    "            elif c == '(':\n",
    "                text.pop()\n",
    "                new_fringe = []\n",
    "                while c != ')':\n",
    "                    new_fringe.extend(self.parse(text, fringe))\n",
    "                    c = text.pop()\n",
    "                fringe = list(set(new_fringe))\n",
    "            else:\n",
    "                raise ValueError('Unrecognized input: {}'.format(c))\n",
    "\n",
    "    def traverse(self):\n",
    "        fringe = {self.root}\n",
    "        doors = -1\n",
    "        far_rooms = 0\n",
    "        seen = {self.root}\n",
    "        while fringe:\n",
    "            doors += 1\n",
    "            if doors >= 1000:\n",
    "                far_rooms += len(fringe)\n",
    "            new_fringe = set()\n",
    "            for node in fringe:\n",
    "                [new_fringe.add(neigh) for neigh in node.neighbors.values() if neigh not in seen]\n",
    "            seen |= new_fringe\n",
    "            fringe = new_fringe\n",
    "            \n",
    "        return doors, far_rooms\n",
    "        "
   ]
  },
  {
   "cell_type": "code",
   "execution_count": 38,
   "metadata": {
    "ExecuteTime": {
     "end_time": "2018-12-21T14:00:35.969133Z",
     "start_time": "2018-12-21T14:00:35.963402Z"
    }
   },
   "outputs": [
    {
     "data": {
      "text/plain": [
       "(18, 0)"
      ]
     },
     "execution_count": 38,
     "metadata": {},
     "output_type": "execute_result"
    }
   ],
   "source": [
    "m = Mapper(text='^ENNWSWW(NEWS|)SSSEEN(WNSE|)EE(SWEN|)NNN$')\n",
    "m.traverse()"
   ]
  },
  {
   "cell_type": "code",
   "execution_count": 39,
   "metadata": {
    "ExecuteTime": {
     "end_time": "2018-12-21T14:00:36.467151Z",
     "start_time": "2018-12-21T14:00:36.375157Z"
    }
   },
   "outputs": [
    {
     "data": {
      "text/plain": [
       "(3656, 8430)"
      ]
     },
     "execution_count": 39,
     "metadata": {},
     "output_type": "execute_result"
    }
   ],
   "source": [
    "m = Mapper(filename='input.txt')\n",
    "m.traverse()"
   ]
  },
  {
   "cell_type": "code",
   "execution_count": null,
   "metadata": {},
   "outputs": [],
   "source": []
  }
 ],
 "metadata": {
  "kernelspec": {
   "display_name": "Python 3",
   "language": "python",
   "name": "python3"
  },
  "language_info": {
   "codemirror_mode": {
    "name": "ipython",
    "version": 3
   },
   "file_extension": ".py",
   "mimetype": "text/x-python",
   "name": "python",
   "nbconvert_exporter": "python",
   "pygments_lexer": "ipython3",
   "version": "3.5.0"
  }
 },
 "nbformat": 4,
 "nbformat_minor": 2
}
