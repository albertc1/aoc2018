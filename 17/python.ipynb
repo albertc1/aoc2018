{
 "cells": [
  {
   "cell_type": "code",
   "execution_count": 1,
   "metadata": {
    "ExecuteTime": {
     "end_time": "2018-12-17T07:11:09.948510Z",
     "start_time": "2018-12-17T07:11:09.943603Z"
    }
   },
   "outputs": [],
   "source": [
    "import re"
   ]
  },
  {
   "cell_type": "code",
   "execution_count": 2,
   "metadata": {
    "ExecuteTime": {
     "end_time": "2018-12-17T07:11:10.285355Z",
     "start_time": "2018-12-17T07:11:10.278372Z"
    }
   },
   "outputs": [],
   "source": [
    "def parse(filename='input.txt'):\n",
    "    clays = set() \n",
    "    with open(filename) as infile:\n",
    "        for l in infile:\n",
    "            l = l.strip()\n",
    "            a, min_x, b, min_y, max_y = re.sub('[^0-9xy]',' ', l).split()\n",
    "            max_x = min_x\n",
    "            if a == 'y':\n",
    "                min_x, min_y, = min_y, min_x\n",
    "                max_x, max_y, = max_y, max_x\n",
    "            for x in range(int(min_x), int(max_x) + 1):\n",
    "                for y in range(int(min_y), int(max_y) + 1):\n",
    "                    clays.add((x, y))\n",
    "    return clays\n"
   ]
  },
  {
   "cell_type": "code",
   "execution_count": 3,
   "metadata": {
    "ExecuteTime": {
     "end_time": "2018-12-17T07:11:11.040051Z",
     "start_time": "2018-12-17T07:11:10.856283Z"
    }
   },
   "outputs": [
    {
     "data": {
      "text/plain": [
       "36787"
      ]
     },
     "execution_count": 3,
     "metadata": {},
     "output_type": "execute_result"
    }
   ],
   "source": [
    "FLOW = 1\n",
    "REST = 2\n",
    "CLAY = 3\n",
    "\n",
    "clays = parse('input.txt')\n",
    "grid = {c: CLAY for c in clays}\n",
    "min_y = min(c[1] for c in clays)\n",
    "max_y = max(c[1] for c in clays)\n",
    "fringe = {(500, 0)}\n",
    "\n",
    "while fringe:\n",
    "    x0, y0 = fringe.pop()\n",
    "    if y0 == max_y:\n",
    "        continue\n",
    "    y1 = y0 + 1\n",
    "    down = (x0, y1)\n",
    "    dtype = grid.get(down)\n",
    "    if dtype == FLOW:\n",
    "        continue\n",
    "    if dtype is None:\n",
    "        grid[down] = FLOW\n",
    "        fringe.add(down)\n",
    "        continue\n",
    "    \n",
    "    min_x = max_x = x0\n",
    "    while grid.get((min_x, y1)) in {REST, CLAY} and grid.get((min_x - 1, y0)) != CLAY:\n",
    "        min_x -= 1\n",
    "    while grid.get((max_x, y1)) in {REST, CLAY} and grid.get((max_x + 1, y0)) != CLAY:\n",
    "        max_x += 1\n",
    "    left_down = grid.get((min_x, y1))\n",
    "    right_down = grid.get((max_x, y1))\n",
    "    if left_down in {CLAY, REST} and right_down in {CLAY, REST}:\n",
    "        # filling upwards\n",
    "        for x in range(min_x, max_x + 1):\n",
    "            grid[(x, y0)] = REST\n",
    "        fringe.add((x0, y0 - 1))\n",
    "        continue\n",
    "    # overflow\n",
    "    for x in range(min_x, max_x + 1):\n",
    "        grid[(x, y0)] = FLOW\n",
    "    if left_down is None:\n",
    "        fringe.add((min_x, y0))\n",
    "    if right_down is None:\n",
    "        fringe.add((max_x, y0))\n",
    "\n",
    "sum(1 for (_, y), t in grid.items() if y >= min_y and t != CLAY)"
   ]
  },
  {
   "cell_type": "code",
   "execution_count": 4,
   "metadata": {
    "ExecuteTime": {
     "end_time": "2018-12-17T07:11:12.039205Z",
     "start_time": "2018-12-17T07:11:11.999909Z"
    }
   },
   "outputs": [
    {
     "data": {
      "text/plain": [
       "29662"
      ]
     },
     "execution_count": 4,
     "metadata": {},
     "output_type": "execute_result"
    }
   ],
   "source": [
    "sum(1 for (_, y), t in grid.items() if y >= min_y and t == REST)"
   ]
  },
  {
   "cell_type": "code",
   "execution_count": null,
   "metadata": {
    "ExecuteTime": {
     "end_time": "2018-12-17T07:07:46.841607Z",
     "start_time": "2018-12-17T07:07:46.330295Z"
    }
   },
   "outputs": [],
   "source": [
    "def debug(grid):\n",
    "    min_x = min(c[0] for c in grid)\n",
    "    max_x = max(c[0] for c in grid)\n",
    "    min_y = min(c[1] for c in grid)\n",
    "    max_y = max(c[1] for c in grid)\n",
    "    chars = '.|~#'\n",
    "    for y in range(min_y, max_y + 1):\n",
    "        line = ''\n",
    "        for x in range(min_x, max_x + 1):\n",
    "            line = line + chars[grid.get((x, y), 0)]\n",
    "        print(line)"
   ]
  },
  {
   "cell_type": "code",
   "execution_count": null,
   "metadata": {},
   "outputs": [],
   "source": []
  }
 ],
 "metadata": {
  "kernelspec": {
   "display_name": "Python 3",
   "language": "python",
   "name": "python3"
  },
  "language_info": {
   "codemirror_mode": {
    "name": "ipython",
    "version": 3
   },
   "file_extension": ".py",
   "mimetype": "text/x-python",
   "name": "python",
   "nbconvert_exporter": "python",
   "pygments_lexer": "ipython3",
   "version": "3.5.0"
  }
 },
 "nbformat": 4,
 "nbformat_minor": 2
}
